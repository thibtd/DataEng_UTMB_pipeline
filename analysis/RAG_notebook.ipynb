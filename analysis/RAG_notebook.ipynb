{
 "cells": [
  {
   "cell_type": "code",
   "execution_count": 1,
   "id": "7ca59f15",
   "metadata": {},
   "outputs": [],
   "source": [
    "from langchain_huggingface import HuggingFaceEmbeddings\n",
    "import duckdb\n",
    "import pandas as pd\n",
    "import tqdm as notebook_tqdm\n",
    "import os,sys\n"
   ]
  },
  {
   "cell_type": "markdown",
   "id": "9930ed93",
   "metadata": {},
   "source": [
    "# Notebook to build a RAG pipeline for UTMB data\n",
    "The idea is to build an Agent system that can answer questions about UTMB races. For this we will use an hybrid approach:\n",
    "1. If the questions is answerable from the db then we will use an LLM to generate a query and query the db. \n",
    "    example of question: \"What race offers a 50km run in June?\" --> Easily queriable. \n",
    "2. If it is a more vague question, we will use a RAG approach. \n",
    "    example of question: \"What is the most challenging race? \" --> Not easily queriable.\n",
    "\n",
    "The agent will then decide which approach to use based on the question. A potential 3rd approach could be to use a combination of both, query the db to filter the resutls and then use the RAG approach to answer the question.\n",
    "    example of question: \"What is the most challenging 50km race that I can do over the summer?\" --> This could be answered by first querying the db to get all the 50k runs in summer and then using the RAG approach to answer the question."
   ]
  },
  {
   "cell_type": "code",
   "execution_count": 58,
   "id": "078da99c",
   "metadata": {},
   "outputs": [],
   "source": [
    "model_name = 'intfloat/e5-small-v2'\n",
    "embeddings = HuggingFaceEmbeddings(model_name=model_name, model_kwargs={\"device\": \"cpu\"})\n",
    "db = duckdb.connect(\"../data_test/utmb_db.duckdb\")"
   ]
  },
  {
   "cell_type": "code",
   "execution_count": 59,
   "id": "12c5c9d2",
   "metadata": {},
   "outputs": [
    {
     "data": {
      "text/plain": [
       "┌────────────┐\n",
       "│     id     │\n",
       "│   int64    │\n",
       "├────────────┤\n",
       "│          1 │\n",
       "│          2 │\n",
       "│          3 │\n",
       "│          4 │\n",
       "│          5 │\n",
       "│          6 │\n",
       "│          7 │\n",
       "│          8 │\n",
       "│          9 │\n",
       "│         10 │\n",
       "│          · │\n",
       "│          · │\n",
       "│          · │\n",
       "│         40 │\n",
       "│         41 │\n",
       "│         42 │\n",
       "│         43 │\n",
       "│         44 │\n",
       "│         45 │\n",
       "│         46 │\n",
       "│         47 │\n",
       "│         48 │\n",
       "│         49 │\n",
       "├────────────┤\n",
       "│  49 rows   │\n",
       "│ (20 shown) │\n",
       "└────────────┘"
      ]
     },
     "execution_count": 59,
     "metadata": {},
     "output_type": "execute_result"
    }
   ],
   "source": [
    "db.sql(\"select id from UTMB\")"
   ]
  },
  {
   "cell_type": "code",
   "execution_count": 60,
   "id": "0d464ace",
   "metadata": {},
   "outputs": [
    {
     "data": {
      "text/plain": [
       "┌──────────┬─────────┬─────────┬───────────────────────────────────────────────────────────────────────────────────────────────────────────────────────────────────────────────────────────────────────────────────────────────────────────────────────────────────────────────────────────────────────────────────────────────────────────────────────────────────────────────────────────────────────────────────────────────────────────────────────────────────────────────────────────────────────────────────────────────────────────────────────────────────────────────────────────────────────────────────────────────────────────────────────────────────────────────────────────────────────────────────────────────────────────────────────────────────────────────────────────────────────────────────────────────────────────────────────────────────────────────────────────────────────────────────────────────────────────────────────────────────────────────────────────────────────────────────────────────────────────────────────────────────────────────────────────────────────────────────────────────────────────────────────────────────────────────────────────────────────────────────────────────────────────────────────────────────────────────┬───────────────────────────────────────────────────────────────────────────────────────────────────────────────────────────────────────────────────────────────────────────────────────────────────────────────────────────────────────────────────────────────────────────────────────────────────────────────────────────────────────────────────────────────────────────────────────────────────────────────────────────────────────────────────────────────────────────────────────────────────────────────────────────────────────────────────────────────────────────────────────────────────────────────────────────────────────────────────────────────────────────────────────────────────────────────────────────────────────────────────────────────────────────────────────────────────┬───────────┐\n",
       "│ database │ schema  │  name   │                                                                                                                                                                                                                                                                                                                                                                                                                                                                                                                                                                                                                 column_names                                                                                                                                                                                                                                                                                                                                                                                                                                                                                                                                                                                                                  │                                                                                                                                                                                                                                                                                                                                                                                           column_types                                                                                                                                                                                                                                                                                                                                                                                            │ temporary │\n",
       "│ varchar  │ varchar │ varchar │                                                                                                                                                                                                                                                                                                                                                                                                                                                                                                                                                                                                                   varchar[]                                                                                                                                                                                                                                                                                                                                                                                                                                                                                                                                                                                                                   │                                                                                                                                                                                                                                                                                                                                                                                             varchar[]                                                                                                                                                                                                                                                                                                                                                                                             │  boolean  │\n",
       "├──────────┼─────────┼─────────┼───────────────────────────────────────────────────────────────────────────────────────────────────────────────────────────────────────────────────────────────────────────────────────────────────────────────────────────────────────────────────────────────────────────────────────────────────────────────────────────────────────────────────────────────────────────────────────────────────────────────────────────────────────────────────────────────────────────────────────────────────────────────────────────────────────────────────────────────────────────────────────────────────────────────────────────────────────────────────────────────────────────────────────────────────────────────────────────────────────────────────────────────────────────────────────────────────────────────────────────────────────────────────────────────────────────────────────────────────────────────────────────────────────────────────────────────────────────────────────────────────────────────────────────────────────────────────────────────────────────────────────────────────────────────────────────────────────────────────────────────────────────────────────────────────────────────────────────────────────────────┼───────────────────────────────────────────────────────────────────────────────────────────────────────────────────────────────────────────────────────────────────────────────────────────────────────────────────────────────────────────────────────────────────────────────────────────────────────────────────────────────────────────────────────────────────────────────────────────────────────────────────────────────────────────────────────────────────────────────────────────────────────────────────────────────────────────────────────────────────────────────────────────────────────────────────────────────────────────────────────────────────────────────────────────────────────────────────────────────────────────────────────────────────────────────────────────────────┼───────────┤\n",
       "│ utmb_db  │ main    │ UTMB    │ [id, name, date_confirmed, country, city, image, link, distance_5, distance_10, distance_15, distance_20, distance_25, distance_30, distance_35, distance_40, distance_45, distance_50, distance_55, distance_60, distance_65, distance_70, distance_75, distance_80, distance_85, distance_90, distance_95, distance_100, distance_105, distance_110, distance_115, distance_120, distance_125, distance_130, distance_135, distance_140, distance_145, distance_150, distance_155, distance_160, distance_165, distance_170, distance_175, distance_250, distance_300, style_Altitude, style_Asateam, style_Autonomy, style_Capitals/largecities, style_Cascade, style_Castles, style_Children&JuniorsCourse, style_CitytoCity, style_Cliffs, style_Cross-border, style_Culture&History, style_Duo, style_Forest, style_Island, style_Lakes&Ponds, style_Mountain, style_Mustsee!, style_Nature, style_Nocturne, style_Overseveraldays, style_Relay, style_Sand, style_Seaside, style_Snow, style_Stagerace, style_UrbanTrail, style_Vertical, style_Vineyard, discipline_Road Running, discipline_Trail, discipline_Walking, multidays, start_day, end_day, month, year, duration, latitude, longitude, description, embeddings, metadata] │ [BIGINT, VARCHAR, BOOLEAN, VARCHAR, VARCHAR, VARCHAR, VARCHAR, BOOLEAN, BOOLEAN, BOOLEAN, BOOLEAN, BOOLEAN, BOOLEAN, BOOLEAN, BOOLEAN, BOOLEAN, BOOLEAN, BOOLEAN, BOOLEAN, BOOLEAN, BOOLEAN, BOOLEAN, BOOLEAN, BOOLEAN, BOOLEAN, BOOLEAN, BOOLEAN, BOOLEAN, BOOLEAN, BOOLEAN, BOOLEAN, BOOLEAN, BOOLEAN, BOOLEAN, BOOLEAN, BOOLEAN, BOOLEAN, BOOLEAN, BOOLEAN, BOOLEAN, BOOLEAN, BOOLEAN, BOOLEAN, BOOLEAN, BOOLEAN, BOOLEAN, BOOLEAN, BOOLEAN, BOOLEAN, BOOLEAN, BOOLEAN, BOOLEAN, BOOLEAN, BOOLEAN, BOOLEAN, BOOLEAN, BOOLEAN, BOOLEAN, BOOLEAN, BOOLEAN, BOOLEAN, BOOLEAN, BOOLEAN, BOOLEAN, BOOLEAN, BOOLEAN, BOOLEAN, BOOLEAN, BOOLEAN, BOOLEAN, BOOLEAN, BOOLEAN, BOOLEAN, BOOLEAN, BOOLEAN, BOOLEAN, DOUBLE, DOUBLE, DOUBLE, DOUBLE, DOUBLE, DOUBLE, DOUBLE, VARCHAR, FLOAT[384], VARCHAR] │ false     │\n",
       "└──────────┴─────────┴─────────┴───────────────────────────────────────────────────────────────────────────────────────────────────────────────────────────────────────────────────────────────────────────────────────────────────────────────────────────────────────────────────────────────────────────────────────────────────────────────────────────────────────────────────────────────────────────────────────────────────────────────────────────────────────────────────────────────────────────────────────────────────────────────────────────────────────────────────────────────────────────────────────────────────────────────────────────────────────────────────────────────────────────────────────────────────────────────────────────────────────────────────────────────────────────────────────────────────────────────────────────────────────────────────────────────────────────────────────────────────────────────────────────────────────────────────────────────────────────────────────────────────────────────────────────────────────────────────────────────────────────────────────────────────────────────────────────────────────────────────────────────────────────────────────────────────────────────────────────────────────────────┴───────────────────────────────────────────────────────────────────────────────────────────────────────────────────────────────────────────────────────────────────────────────────────────────────────────────────────────────────────────────────────────────────────────────────────────────────────────────────────────────────────────────────────────────────────────────────────────────────────────────────────────────────────────────────────────────────────────────────────────────────────────────────────────────────────────────────────────────────────────────────────────────────────────────────────────────────────────────────────────────────────────────────────────────────────────────────────────────────────────────────────────────────────────────────────────────────┴───────────┘"
      ]
     },
     "execution_count": 60,
     "metadata": {},
     "output_type": "execute_result"
    }
   ],
   "source": [
    "db.sql(\"DESCRIBE all tables\")"
   ]
  },
  {
   "cell_type": "code",
   "execution_count": 61,
   "id": "241480d9",
   "metadata": {},
   "outputs": [],
   "source": [
    "data = db.sql(\"SELECT * FROM UTMB\").df()"
   ]
  },
  {
   "cell_type": "code",
   "execution_count": 62,
   "id": "9317390f",
   "metadata": {},
   "outputs": [
    {
     "data": {
      "text/html": [
       "<div>\n",
       "<style scoped>\n",
       "    .dataframe tbody tr th:only-of-type {\n",
       "        vertical-align: middle;\n",
       "    }\n",
       "\n",
       "    .dataframe tbody tr th {\n",
       "        vertical-align: top;\n",
       "    }\n",
       "\n",
       "    .dataframe thead th {\n",
       "        text-align: right;\n",
       "    }\n",
       "</style>\n",
       "<table border=\"1\" class=\"dataframe\">\n",
       "  <thead>\n",
       "    <tr style=\"text-align: right;\">\n",
       "      <th></th>\n",
       "      <th>id</th>\n",
       "      <th>name</th>\n",
       "      <th>date_confirmed</th>\n",
       "      <th>country</th>\n",
       "      <th>city</th>\n",
       "      <th>image</th>\n",
       "      <th>link</th>\n",
       "      <th>distance_5</th>\n",
       "      <th>distance_10</th>\n",
       "      <th>distance_15</th>\n",
       "      <th>...</th>\n",
       "      <th>start_day</th>\n",
       "      <th>end_day</th>\n",
       "      <th>month</th>\n",
       "      <th>year</th>\n",
       "      <th>duration</th>\n",
       "      <th>latitude</th>\n",
       "      <th>longitude</th>\n",
       "      <th>description</th>\n",
       "      <th>embeddings</th>\n",
       "      <th>metadata</th>\n",
       "    </tr>\n",
       "  </thead>\n",
       "  <tbody>\n",
       "    <tr>\n",
       "      <th>0</th>\n",
       "      <td>1</td>\n",
       "      <td>Nice Côte d'Azur</td>\n",
       "      <td>True</td>\n",
       "      <td>France</td>\n",
       "      <td>Nice(06)</td>\n",
       "      <td>https://res.cloudinary.com/kavval/image/upload...</td>\n",
       "      <td>https://www.finishers.com/en/event/nice-cote-d...</td>\n",
       "      <td>False</td>\n",
       "      <td>False</td>\n",
       "      <td>False</td>\n",
       "      <td>...</td>\n",
       "      <td>26.0</td>\n",
       "      <td>28.0</td>\n",
       "      <td>9.0</td>\n",
       "      <td>2025.0</td>\n",
       "      <td>2.0</td>\n",
       "      <td>43.700936</td>\n",
       "      <td>7.268391</td>\n",
       "      <td>passage: Nice Côte d'Azur takes place in Nice(...</td>\n",
       "      <td>[-0.06962153, 0.042183343, 0.055064175, 0.0448...</td>\n",
       "      <td>{ \"name\": \"Nice Côte d'Azur\" }</td>\n",
       "    </tr>\n",
       "    <tr>\n",
       "      <th>1</th>\n",
       "      <td>2</td>\n",
       "      <td>Kaçkar</td>\n",
       "      <td>True</td>\n",
       "      <td>Republic of Türkiye</td>\n",
       "      <td>Ayder</td>\n",
       "      <td>https://res.cloudinary.com/kavval/image/upload...</td>\n",
       "      <td>https://www.finishers.com/en/event/kackar-by-u...</td>\n",
       "      <td>False</td>\n",
       "      <td>False</td>\n",
       "      <td>False</td>\n",
       "      <td>...</td>\n",
       "      <td>27.0</td>\n",
       "      <td>27.0</td>\n",
       "      <td>9.0</td>\n",
       "      <td>2025.0</td>\n",
       "      <td>1.0</td>\n",
       "      <td>40.952520</td>\n",
       "      <td>41.102051</td>\n",
       "      <td>passage: Kaçkar takes place in Ayder, Republic...</td>\n",
       "      <td>[-0.04515943, 0.010894476, 0.03974204, 0.05890...</td>\n",
       "      <td>{ \"name\": \"Kaçkar\" }</td>\n",
       "    </tr>\n",
       "    <tr>\n",
       "      <th>2</th>\n",
       "      <td>3</td>\n",
       "      <td>KAT100 Austria</td>\n",
       "      <td>True</td>\n",
       "      <td>Austria</td>\n",
       "      <td>Kitzbühel</td>\n",
       "      <td>https://res.cloudinary.com/kavval/image/upload...</td>\n",
       "      <td>https://www.finishers.com/en/event/kat100-utmb</td>\n",
       "      <td>False</td>\n",
       "      <td>True</td>\n",
       "      <td>False</td>\n",
       "      <td>...</td>\n",
       "      <td>7.0</td>\n",
       "      <td>9.0</td>\n",
       "      <td>8.0</td>\n",
       "      <td>2025.0</td>\n",
       "      <td>2.0</td>\n",
       "      <td>47.446359</td>\n",
       "      <td>12.391147</td>\n",
       "      <td>passage: KAT100 Austria takes place in Kitzbüh...</td>\n",
       "      <td>[-0.052351978, 0.03653495, 0.035622302, 0.0325...</td>\n",
       "      <td>{ \"name\": \"KAT100 Austria\" }</td>\n",
       "    </tr>\n",
       "    <tr>\n",
       "      <th>3</th>\n",
       "      <td>4</td>\n",
       "      <td>UTMB®</td>\n",
       "      <td>True</td>\n",
       "      <td>France</td>\n",
       "      <td>Chamonix(74)</td>\n",
       "      <td>https://res.cloudinary.com/kavval/image/upload...</td>\n",
       "      <td>https://www.finishers.com/en/event/utmb</td>\n",
       "      <td>False</td>\n",
       "      <td>False</td>\n",
       "      <td>True</td>\n",
       "      <td>...</td>\n",
       "      <td>25.0</td>\n",
       "      <td>29.0</td>\n",
       "      <td>8.0</td>\n",
       "      <td>2025.0</td>\n",
       "      <td>4.0</td>\n",
       "      <td>33.521298</td>\n",
       "      <td>-117.701083</td>\n",
       "      <td>passage: UTMB® takes place in Chamonix(74), Fr...</td>\n",
       "      <td>[-0.041295115, 0.037600648, 0.04706601, 0.0074...</td>\n",
       "      <td>{ \"name\": \"UTMB®\" }</td>\n",
       "    </tr>\n",
       "    <tr>\n",
       "      <th>4</th>\n",
       "      <td>5</td>\n",
       "      <td>Julian Alps Trail Run</td>\n",
       "      <td>False</td>\n",
       "      <td>Slovenia</td>\n",
       "      <td>Kranjska Gora</td>\n",
       "      <td>https://res.cloudinary.com/kavval/image/upload...</td>\n",
       "      <td>https://www.finishers.com/en/event/julian-alps...</td>\n",
       "      <td>False</td>\n",
       "      <td>True</td>\n",
       "      <td>True</td>\n",
       "      <td>...</td>\n",
       "      <td>NaN</td>\n",
       "      <td>NaN</td>\n",
       "      <td>9.0</td>\n",
       "      <td>2025.0</td>\n",
       "      <td>NaN</td>\n",
       "      <td>46.485132</td>\n",
       "      <td>13.784396</td>\n",
       "      <td>passage: Julian Alps Trail Run takes place in ...</td>\n",
       "      <td>[-0.079987764, 0.03809658, -0.018317556, 0.074...</td>\n",
       "      <td>{ \"name\": \"Julian Alps Trail Run\" }</td>\n",
       "    </tr>\n",
       "  </tbody>\n",
       "</table>\n",
       "<p>5 rows × 86 columns</p>\n",
       "</div>"
      ],
      "text/plain": [
       "   id                   name  date_confirmed              country  \\\n",
       "0   1       Nice Côte d'Azur            True               France   \n",
       "1   2                 Kaçkar            True  Republic of Türkiye   \n",
       "2   3         KAT100 Austria            True              Austria   \n",
       "3   4                  UTMB®            True               France   \n",
       "4   5  Julian Alps Trail Run           False             Slovenia   \n",
       "\n",
       "            city                                              image  \\\n",
       "0       Nice(06)  https://res.cloudinary.com/kavval/image/upload...   \n",
       "1          Ayder  https://res.cloudinary.com/kavval/image/upload...   \n",
       "2      Kitzbühel  https://res.cloudinary.com/kavval/image/upload...   \n",
       "3   Chamonix(74)  https://res.cloudinary.com/kavval/image/upload...   \n",
       "4  Kranjska Gora  https://res.cloudinary.com/kavval/image/upload...   \n",
       "\n",
       "                                                link  distance_5  distance_10  \\\n",
       "0  https://www.finishers.com/en/event/nice-cote-d...       False        False   \n",
       "1  https://www.finishers.com/en/event/kackar-by-u...       False        False   \n",
       "2     https://www.finishers.com/en/event/kat100-utmb       False         True   \n",
       "3            https://www.finishers.com/en/event/utmb       False        False   \n",
       "4  https://www.finishers.com/en/event/julian-alps...       False         True   \n",
       "\n",
       "   distance_15  ...  start_day  end_day  month    year  duration   latitude  \\\n",
       "0        False  ...       26.0     28.0    9.0  2025.0       2.0  43.700936   \n",
       "1        False  ...       27.0     27.0    9.0  2025.0       1.0  40.952520   \n",
       "2        False  ...        7.0      9.0    8.0  2025.0       2.0  47.446359   \n",
       "3         True  ...       25.0     29.0    8.0  2025.0       4.0  33.521298   \n",
       "4         True  ...        NaN      NaN    9.0  2025.0       NaN  46.485132   \n",
       "\n",
       "    longitude                                        description  \\\n",
       "0    7.268391  passage: Nice Côte d'Azur takes place in Nice(...   \n",
       "1   41.102051  passage: Kaçkar takes place in Ayder, Republic...   \n",
       "2   12.391147  passage: KAT100 Austria takes place in Kitzbüh...   \n",
       "3 -117.701083  passage: UTMB® takes place in Chamonix(74), Fr...   \n",
       "4   13.784396  passage: Julian Alps Trail Run takes place in ...   \n",
       "\n",
       "                                          embeddings  \\\n",
       "0  [-0.06962153, 0.042183343, 0.055064175, 0.0448...   \n",
       "1  [-0.04515943, 0.010894476, 0.03974204, 0.05890...   \n",
       "2  [-0.052351978, 0.03653495, 0.035622302, 0.0325...   \n",
       "3  [-0.041295115, 0.037600648, 0.04706601, 0.0074...   \n",
       "4  [-0.079987764, 0.03809658, -0.018317556, 0.074...   \n",
       "\n",
       "                              metadata  \n",
       "0       { \"name\": \"Nice Côte d'Azur\" }  \n",
       "1                 { \"name\": \"Kaçkar\" }  \n",
       "2         { \"name\": \"KAT100 Austria\" }  \n",
       "3                  { \"name\": \"UTMB®\" }  \n",
       "4  { \"name\": \"Julian Alps Trail Run\" }  \n",
       "\n",
       "[5 rows x 86 columns]"
      ]
     },
     "execution_count": 62,
     "metadata": {},
     "output_type": "execute_result"
    }
   ],
   "source": [
    "data.head()"
   ]
  },
  {
   "cell_type": "code",
   "execution_count": 63,
   "id": "dd804181",
   "metadata": {},
   "outputs": [
    {
     "data": {
      "text/plain": [
       "Index(['id', 'name', 'date_confirmed', 'country', 'city', 'image', 'link',\n",
       "       'distance_5', 'distance_10', 'distance_15', 'distance_20',\n",
       "       'distance_25', 'distance_30', 'distance_35', 'distance_40',\n",
       "       'distance_45', 'distance_50', 'distance_55', 'distance_60',\n",
       "       'distance_65', 'distance_70', 'distance_75', 'distance_80',\n",
       "       'distance_85', 'distance_90', 'distance_95', 'distance_100',\n",
       "       'distance_105', 'distance_110', 'distance_115', 'distance_120',\n",
       "       'distance_125', 'distance_130', 'distance_135', 'distance_140',\n",
       "       'distance_145', 'distance_150', 'distance_155', 'distance_160',\n",
       "       'distance_165', 'distance_170', 'distance_175', 'distance_250',\n",
       "       'distance_300', 'style_Altitude', 'style_Asateam', 'style_Autonomy',\n",
       "       'style_Capitals/largecities', 'style_Cascade', 'style_Castles',\n",
       "       'style_Children&JuniorsCourse', 'style_CitytoCity', 'style_Cliffs',\n",
       "       'style_Cross-border', 'style_Culture&History', 'style_Duo',\n",
       "       'style_Forest', 'style_Island', 'style_Lakes&Ponds', 'style_Mountain',\n",
       "       'style_Mustsee!', 'style_Nature', 'style_Nocturne',\n",
       "       'style_Overseveraldays', 'style_Relay', 'style_Sand', 'style_Seaside',\n",
       "       'style_Snow', 'style_Stagerace', 'style_UrbanTrail', 'style_Vertical',\n",
       "       'style_Vineyard', 'discipline_Road Running', 'discipline_Trail',\n",
       "       'discipline_Walking', 'multidays', 'start_day', 'end_day', 'month',\n",
       "       'year', 'duration', 'latitude', 'longitude', 'description',\n",
       "       'embeddings', 'metadata'],\n",
       "      dtype='object')"
      ]
     },
     "execution_count": 63,
     "metadata": {},
     "output_type": "execute_result"
    }
   ],
   "source": [
    "data.columns"
   ]
  },
  {
   "cell_type": "markdown",
   "id": "93db43ec",
   "metadata": {},
   "source": [
    "## RAG Pipeline \n",
    "\n",
    "Our documents are emebedded and stored in a DuckDB database. We will use the `langchain_community.vectorstores.duckdb` to query the embeddings.\n",
    "The embeddings were generated using `intfloat/e5-small-v2`. So we will keep this. A specificity of that model is that \"passage\" and \"query\" have to be added to the text we are embedding. It has been done for the documents, but not for the queries. So we will add it to the queries before embedding them."
   ]
  },
  {
   "cell_type": "code",
   "execution_count": 2,
   "id": "c2686bd7",
   "metadata": {},
   "outputs": [
    {
     "name": "stderr",
     "output_type": "stream",
     "text": [
      "/Users/thibtd/some fun/utmb_data_eng/.venv/lib/python3.12/site-packages/tqdm/auto.py:21: TqdmWarning: IProgress not found. Please update jupyter and ipywidgets. See https://ipywidgets.readthedocs.io/en/stable/user_install.html\n",
      "  from .autonotebook import tqdm as notebook_tqdm\n"
     ]
    },
    {
     "ename": "NameError",
     "evalue": "name 'LangChainDuckDB' is not defined",
     "output_type": "error",
     "traceback": [
      "\u001b[0;31m---------------------------------------------------------------------------\u001b[0m",
      "\u001b[0;31mNameError\u001b[0m                                 Traceback (most recent call last)",
      "Cell \u001b[0;32mIn[2], line 3\u001b[0m\n\u001b[1;32m      1\u001b[0m model_name \u001b[38;5;241m=\u001b[39m \u001b[38;5;124m'\u001b[39m\u001b[38;5;124mintfloat/e5-large-v2\u001b[39m\u001b[38;5;124m'\u001b[39m\n\u001b[1;32m      2\u001b[0m embeddings_model \u001b[38;5;241m=\u001b[39m HuggingFaceEmbeddings(model_name\u001b[38;5;241m=\u001b[39mmodel_name, model_kwargs\u001b[38;5;241m=\u001b[39m{\u001b[38;5;124m\"\u001b[39m\u001b[38;5;124mdevice\u001b[39m\u001b[38;5;124m\"\u001b[39m: \u001b[38;5;124m\"\u001b[39m\u001b[38;5;124mcpu\u001b[39m\u001b[38;5;124m\"\u001b[39m})\n\u001b[0;32m----> 3\u001b[0m vector_store \u001b[38;5;241m=\u001b[39m \u001b[43mLangChainDuckDB\u001b[49m(connection\u001b[38;5;241m=\u001b[39mdb, table_name\u001b[38;5;241m=\u001b[39m\u001b[38;5;124m\"\u001b[39m\u001b[38;5;124mUTMB\u001b[39m\u001b[38;5;124m\"\u001b[39m, embedding\u001b[38;5;241m=\u001b[39membeddings_model,vector_key\u001b[38;5;241m=\u001b[39m\u001b[38;5;124m'\u001b[39m\u001b[38;5;124membeddings\u001b[39m\u001b[38;5;124m'\u001b[39m)\n",
      "\u001b[0;31mNameError\u001b[0m: name 'LangChainDuckDB' is not defined"
     ]
    }
   ],
   "source": [
    "model_name = 'intfloat/e5-large-v2'\n",
    "embeddings_model = HuggingFaceEmbeddings(model_name=model_name, model_kwargs={\"device\": \"cpu\"})\n",
    "vector_store = LangChainDuckDB(connection=db, table_name=\"UTMB\", embedding=embeddings_model,vector_key='embeddings')"
   ]
  },
  {
   "cell_type": "code",
   "execution_count": 65,
   "id": "3b192529",
   "metadata": {},
   "outputs": [
    {
     "name": "stderr",
     "output_type": "stream",
     "text": [
      "/Users/thibtd/some fun/utmb_data_eng/.venv/lib/python3.12/site-packages/torch/nn/modules/module.py:1762: FutureWarning: `encoder_attention_mask` is deprecated and will be removed in version 4.55.0 for `BertSdpaSelfAttention.forward`.\n",
      "  return forward_call(*args, **kwargs)\n"
     ]
    }
   ],
   "source": [
    "question = \"query: a scenic but tough race in switzerland\"\n",
    "\n",
    "embedded = embeddings_model.embed_query(question)\n"
   ]
  },
  {
   "cell_type": "code",
   "execution_count": 66,
   "id": "71521924",
   "metadata": {},
   "outputs": [],
   "source": [
    "a = db.execute(\"\"\"SELECT *,array_distance(embeddings,cast(? AS FLOAT[384])) AS distance  FROM UTMB ORDER BY distance DESC LIMIT 5\"\"\",parameters=[embedded]).fetchdf()"
   ]
  },
  {
   "cell_type": "code",
   "execution_count": 67,
   "id": "5f18faee",
   "metadata": {},
   "outputs": [
    {
     "data": {
      "text/html": [
       "<div>\n",
       "<style scoped>\n",
       "    .dataframe tbody tr th:only-of-type {\n",
       "        vertical-align: middle;\n",
       "    }\n",
       "\n",
       "    .dataframe tbody tr th {\n",
       "        vertical-align: top;\n",
       "    }\n",
       "\n",
       "    .dataframe thead th {\n",
       "        text-align: right;\n",
       "    }\n",
       "</style>\n",
       "<table border=\"1\" class=\"dataframe\">\n",
       "  <thead>\n",
       "    <tr style=\"text-align: right;\">\n",
       "      <th></th>\n",
       "      <th>id</th>\n",
       "      <th>name</th>\n",
       "      <th>date_confirmed</th>\n",
       "      <th>country</th>\n",
       "      <th>city</th>\n",
       "      <th>image</th>\n",
       "      <th>link</th>\n",
       "      <th>distance_5</th>\n",
       "      <th>distance_10</th>\n",
       "      <th>distance_15</th>\n",
       "      <th>...</th>\n",
       "      <th>end_day</th>\n",
       "      <th>month</th>\n",
       "      <th>year</th>\n",
       "      <th>duration</th>\n",
       "      <th>latitude</th>\n",
       "      <th>longitude</th>\n",
       "      <th>description</th>\n",
       "      <th>embeddings</th>\n",
       "      <th>metadata</th>\n",
       "      <th>distance</th>\n",
       "    </tr>\n",
       "  </thead>\n",
       "  <tbody>\n",
       "    <tr>\n",
       "      <th>0</th>\n",
       "      <td>26</td>\n",
       "      <td>Trail Running Festival Desert Rats</td>\n",
       "      <td>False</td>\n",
       "      <td>United States</td>\n",
       "      <td>Fruita(CO)</td>\n",
       "      <td>https://res.cloudinary.com/kavval/image/upload...</td>\n",
       "      <td>https://www.finishers.com/en/event/trail-runni...</td>\n",
       "      <td>False</td>\n",
       "      <td>True</td>\n",
       "      <td>False</td>\n",
       "      <td>...</td>\n",
       "      <td>NaN</td>\n",
       "      <td>4.0</td>\n",
       "      <td>2026.0</td>\n",
       "      <td>NaN</td>\n",
       "      <td>39.158870</td>\n",
       "      <td>-108.728988</td>\n",
       "      <td>passage: Trail Running Festival Desert Rats ta...</td>\n",
       "      <td>[-0.017592195, -0.009952028, 0.07496054, 0.043...</td>\n",
       "      <td>{ \"name\": \"Trail Running Festival Desert Rats\" }</td>\n",
       "      <td>0.710480</td>\n",
       "    </tr>\n",
       "    <tr>\n",
       "      <th>1</th>\n",
       "      <td>31</td>\n",
       "      <td>Quindío Trail Colombia</td>\n",
       "      <td>False</td>\n",
       "      <td>Colombia</td>\n",
       "      <td>Buena Vista</td>\n",
       "      <td>https://res.cloudinary.com/kavval/image/upload...</td>\n",
       "      <td>https://www.finishers.com/en/event/quindio-tra...</td>\n",
       "      <td>False</td>\n",
       "      <td>False</td>\n",
       "      <td>True</td>\n",
       "      <td>...</td>\n",
       "      <td>NaN</td>\n",
       "      <td>5.0</td>\n",
       "      <td>2026.0</td>\n",
       "      <td>NaN</td>\n",
       "      <td>42.744581</td>\n",
       "      <td>-95.112752</td>\n",
       "      <td>passage: Quindío Trail Colombia takes place in...</td>\n",
       "      <td>[-0.097181804, 0.011473633, 0.06027981, -0.001...</td>\n",
       "      <td>{ \"name\": \"Quindío Trail Colombia\" }</td>\n",
       "      <td>0.710415</td>\n",
       "    </tr>\n",
       "    <tr>\n",
       "      <th>2</th>\n",
       "      <td>49</td>\n",
       "      <td>Quito Trail Ecuador</td>\n",
       "      <td>False</td>\n",
       "      <td>Ecuador</td>\n",
       "      <td>Quito</td>\n",
       "      <td>https://res.cloudinary.com/kavval/image/upload...</td>\n",
       "      <td>https://www.finishers.com/en/event/quito-trail...</td>\n",
       "      <td>True</td>\n",
       "      <td>False</td>\n",
       "      <td>True</td>\n",
       "      <td>...</td>\n",
       "      <td>NaN</td>\n",
       "      <td>8.0</td>\n",
       "      <td>2026.0</td>\n",
       "      <td>NaN</td>\n",
       "      <td>-0.220164</td>\n",
       "      <td>-78.512327</td>\n",
       "      <td>passage: Quito Trail Ecuador takes place in Qu...</td>\n",
       "      <td>[-0.06586352, 0.018734813, 0.058759533, 0.0160...</td>\n",
       "      <td>{ \"name\": \"Quito Trail Ecuador\" }</td>\n",
       "      <td>0.706034</td>\n",
       "    </tr>\n",
       "    <tr>\n",
       "      <th>3</th>\n",
       "      <td>6</td>\n",
       "      <td>Paraty Brazil</td>\n",
       "      <td>False</td>\n",
       "      <td>Brazil</td>\n",
       "      <td>Paraty</td>\n",
       "      <td>https://res.cloudinary.com/kavval/image/upload...</td>\n",
       "      <td>https://www.finishers.com/en/event/paraty-braz...</td>\n",
       "      <td>False</td>\n",
       "      <td>False</td>\n",
       "      <td>False</td>\n",
       "      <td>...</td>\n",
       "      <td>NaN</td>\n",
       "      <td>9.0</td>\n",
       "      <td>2025.0</td>\n",
       "      <td>NaN</td>\n",
       "      <td>-23.141541</td>\n",
       "      <td>-44.761080</td>\n",
       "      <td>passage: Paraty Brazil takes place in Paraty, ...</td>\n",
       "      <td>[-0.07758545, 0.054810338, 0.058911953, 0.0320...</td>\n",
       "      <td>{ \"name\": \"Paraty Brazil\" }</td>\n",
       "      <td>0.705857</td>\n",
       "    </tr>\n",
       "    <tr>\n",
       "      <th>4</th>\n",
       "      <td>20</td>\n",
       "      <td>Hoka Chiang Mai Thaïland</td>\n",
       "      <td>False</td>\n",
       "      <td>Thailand</td>\n",
       "      <td>Chiang Mai</td>\n",
       "      <td>https://res.cloudinary.com/kavval/image/upload...</td>\n",
       "      <td>https://www.finishers.com/en/event/hoka-chiang...</td>\n",
       "      <td>False</td>\n",
       "      <td>True</td>\n",
       "      <td>False</td>\n",
       "      <td>...</td>\n",
       "      <td>NaN</td>\n",
       "      <td>12.0</td>\n",
       "      <td>2025.0</td>\n",
       "      <td>NaN</td>\n",
       "      <td>18.788278</td>\n",
       "      <td>98.985880</td>\n",
       "      <td>passage: Hoka Chiang Mai Thaïland takes place ...</td>\n",
       "      <td>[-0.048644, 0.035381272, 0.034256756, 0.050821...</td>\n",
       "      <td>{ \"name\": \"Hoka Chiang Mai Thaïland\" }</td>\n",
       "      <td>0.704122</td>\n",
       "    </tr>\n",
       "  </tbody>\n",
       "</table>\n",
       "<p>5 rows × 87 columns</p>\n",
       "</div>"
      ],
      "text/plain": [
       "   id                                name  date_confirmed        country  \\\n",
       "0  26  Trail Running Festival Desert Rats           False  United States   \n",
       "1  31              Quindío Trail Colombia           False       Colombia   \n",
       "2  49                 Quito Trail Ecuador           False        Ecuador   \n",
       "3   6                       Paraty Brazil           False         Brazil   \n",
       "4  20            Hoka Chiang Mai Thaïland           False       Thailand   \n",
       "\n",
       "          city                                              image  \\\n",
       "0   Fruita(CO)  https://res.cloudinary.com/kavval/image/upload...   \n",
       "1  Buena Vista  https://res.cloudinary.com/kavval/image/upload...   \n",
       "2        Quito  https://res.cloudinary.com/kavval/image/upload...   \n",
       "3       Paraty  https://res.cloudinary.com/kavval/image/upload...   \n",
       "4   Chiang Mai  https://res.cloudinary.com/kavval/image/upload...   \n",
       "\n",
       "                                                link  distance_5  distance_10  \\\n",
       "0  https://www.finishers.com/en/event/trail-runni...       False         True   \n",
       "1  https://www.finishers.com/en/event/quindio-tra...       False        False   \n",
       "2  https://www.finishers.com/en/event/quito-trail...        True        False   \n",
       "3  https://www.finishers.com/en/event/paraty-braz...       False        False   \n",
       "4  https://www.finishers.com/en/event/hoka-chiang...       False         True   \n",
       "\n",
       "   distance_15  ...  end_day  month    year  duration   latitude   longitude  \\\n",
       "0        False  ...      NaN    4.0  2026.0       NaN  39.158870 -108.728988   \n",
       "1         True  ...      NaN    5.0  2026.0       NaN  42.744581  -95.112752   \n",
       "2         True  ...      NaN    8.0  2026.0       NaN  -0.220164  -78.512327   \n",
       "3        False  ...      NaN    9.0  2025.0       NaN -23.141541  -44.761080   \n",
       "4        False  ...      NaN   12.0  2025.0       NaN  18.788278   98.985880   \n",
       "\n",
       "                                         description  \\\n",
       "0  passage: Trail Running Festival Desert Rats ta...   \n",
       "1  passage: Quindío Trail Colombia takes place in...   \n",
       "2  passage: Quito Trail Ecuador takes place in Qu...   \n",
       "3  passage: Paraty Brazil takes place in Paraty, ...   \n",
       "4  passage: Hoka Chiang Mai Thaïland takes place ...   \n",
       "\n",
       "                                          embeddings  \\\n",
       "0  [-0.017592195, -0.009952028, 0.07496054, 0.043...   \n",
       "1  [-0.097181804, 0.011473633, 0.06027981, -0.001...   \n",
       "2  [-0.06586352, 0.018734813, 0.058759533, 0.0160...   \n",
       "3  [-0.07758545, 0.054810338, 0.058911953, 0.0320...   \n",
       "4  [-0.048644, 0.035381272, 0.034256756, 0.050821...   \n",
       "\n",
       "                                           metadata  distance  \n",
       "0  { \"name\": \"Trail Running Festival Desert Rats\" }  0.710480  \n",
       "1              { \"name\": \"Quindío Trail Colombia\" }  0.710415  \n",
       "2                 { \"name\": \"Quito Trail Ecuador\" }  0.706034  \n",
       "3                       { \"name\": \"Paraty Brazil\" }  0.705857  \n",
       "4            { \"name\": \"Hoka Chiang Mai Thaïland\" }  0.704122  \n",
       "\n",
       "[5 rows x 87 columns]"
      ]
     },
     "execution_count": 67,
     "metadata": {},
     "output_type": "execute_result"
    }
   ],
   "source": [
    "a"
   ]
  },
  {
   "cell_type": "code",
   "execution_count": 76,
   "id": "019140f2",
   "metadata": {},
   "outputs": [
    {
     "data": {
      "text/plain": [
       "┌───────┬───────────────────────┬────────────────┬──────────┬───────────────┬───────────────────────────────────────────────────────────────────────────────────────────────────────────────────────────────────────────────────────────────────────────────┬──────────────────────────────────────────────────────────┬────────────┬─────────────┬─────────────┬─────────────┬─────────────┬─────────────┬─────────────┬─────────────┬─────────────┬─────────────┬─────────────┬─────────────┬─────────────┬─────────────┬─────────────┬─────────────┬─────────────┬─────────────┬─────────────┬──────────────┬──────────────┬──────────────┬──────────────┬──────────────┬──────────────┬──────────────┬──────────────┬──────────────┬──────────────┬──────────────┬──────────────┬──────────────┬──────────────┬──────────────┬──────────────┬──────────────┬──────────────┬────────────────┬───────────────┬────────────────┬────────────────────────────┬───────────────┬───────────────┬──────────────────────────────┬──────────────────┬──────────────┬────────────────────┬───────────────────────┬───────────┬──────────────┬──────────────┬───────────────────┬────────────────┬────────────────┬──────────────┬────────────────┬───────────────────────┬─────────────┬────────────┬───────────────┬────────────┬─────────────────┬──────────────────┬────────────────┬────────────────┬─────────────────────────┬──────────────────┬────────────────────┬───────────┬───────────┬─────────┬────────┬────────┬──────────┬───────────┬────────────┬─────────────────────────────────────────────────────────────────────────────────────────────────────────────────────────────────────────────────────────────────────────────────────────────────────────────────────────────────────────────────────────────────────────────────────┬─────────────────────────────────────────────────────────────────────────────────────────────────────────────────────────────────────────────────────────────────────────────────────────────────────────────────────────────────────────────────────────────────────────────────────────────────────────────────────────────────────────────────────────────────────────────────────────────────────────────────────────────────────────────────────────────────────────────────────────────────────────────────────────────────────────────────────────────────────────────────────────────────────────────────────────────────────────────────────────────────────────────────────────────────────────────────────────────────────────────────────────────────────────────────────────────────────────────────────────────────────────────────────────────────────────────────────────────────────────────────────────────────────────────────────────────────────────────────────────────────────────────────────────────────────────────────────────────────────────────────────────────────────────────────────────────────────────────────────────────────────────────────────────────────────────────────────────────────────────────────────────────────────────────────────────────────────────────────────────────────────────────────────────────────────────────────────────────────────────────────────────────────────────────────────────────────────────────────────────────────────────────────────────────────────────────────────────────────────────────────────────────────────────────────────────────────────────────────────────────────────────────────────────────────────────────────────────────────────────────────────────────────────────────────────────────────────────────────────────────────────────────────────────────────────────────────────────────────────────────────────────────────────────────────────────────────────────────────────────────────────────────────────────────────────────────────────────────────────────────────────────────────────────────────────────────────────────────────────────────────────────────────────────────────────────────────────────────────────────────────────────────────────────────────────────────────────────────────────────────────────────────────────────────────────────────────────────────────────────────────────────────────────────────────────────────────────────────────────────────────────────────────────────────────────────────────────────────────────────────────────────────────────────────────────────────────────────────────────────────────────────────────────────────────────────────────────────────────────────────────────────────────────────────────────────────────────────────────────────────────────────────────────────────────────────────────────────────────────────────────────────────────────────────────────────────────────────────────────────────────────────────────────────────────────────────────────────────────────────────────────────────────────────────────────────────────────────────────────────────────────────────────────────────────────────────────────────────────────────────────────────────────────────────────────────────────────────────────────────────────────────────────────────────────────────────────────────────────────────────────────────────────────────────────────────────────────────────────────────────────────────────────────────────────────────────────────────────────────────────────────────────────────────────────────────────────────────────────────────────────────────────────────────────────────────────────────────────────────────────────────────────────────────────────────────────────────────────────────────────────────────────────────────────────────────────────────────────────────────────────────────────────────────────────────────────────────────────────────────────────────────────────────────────────────────────────────────────────────────────────────────────────────────────────────────────────────────────────────────────────────────────────────────────────────────────────────────────────────────────────────────────────────────────────────────────────────────────────────────────────────────────────────────────────────────────────────────────────────────────────────────────────────────────────────────────────────────────────────────────────────────────────────────────────────────────────────────────────────────────────────────────────────────────────────────────────────────────────────────────────────────────────────────────────────────────────────────────────────────────────────────────────────────────────────────────────────────────────────────────────────────────────────────────────────────────────────────────────────────────────────────────────────────────────────────────────────────────────────────────────────────────────────────────────────────────────────────────────────────────────────────────────────────────────────────────────────────────────────────────────────────────────────────────────────────────────────────────────────────────────────────────────────────────────────────────────┬─────────────────────────────────────┐\n",
       "│  id   │         name          │ date_confirmed │ country  │     city      │                                                                                     image                                                                                     │                           link                           │ distance_5 │ distance_10 │ distance_15 │ distance_20 │ distance_25 │ distance_30 │ distance_35 │ distance_40 │ distance_45 │ distance_50 │ distance_55 │ distance_60 │ distance_65 │ distance_70 │ distance_75 │ distance_80 │ distance_85 │ distance_90 │ distance_95 │ distance_100 │ distance_105 │ distance_110 │ distance_115 │ distance_120 │ distance_125 │ distance_130 │ distance_135 │ distance_140 │ distance_145 │ distance_150 │ distance_155 │ distance_160 │ distance_165 │ distance_170 │ distance_175 │ distance_250 │ distance_300 │ style_Altitude │ style_Asateam │ style_Autonomy │ style_Capitals/largecities │ style_Cascade │ style_Castles │ style_Children&JuniorsCourse │ style_CitytoCity │ style_Cliffs │ style_Cross-border │ style_Culture&History │ style_Duo │ style_Forest │ style_Island │ style_Lakes&Ponds │ style_Mountain │ style_Mustsee! │ style_Nature │ style_Nocturne │ style_Overseveraldays │ style_Relay │ style_Sand │ style_Seaside │ style_Snow │ style_Stagerace │ style_UrbanTrail │ style_Vertical │ style_Vineyard │ discipline_Road Running │ discipline_Trail │ discipline_Walking │ multidays │ start_day │ end_day │ month  │  year  │ duration │ latitude  │ longitude  │                                                                                                                                     description                                                                                                                                     │                                                                                                                                                                                                                                                                                                                                                                                                                                                                                                                                                                                                                                                                                                                                                                                                                                                                                                                                                                                                                                                                                                                                                                                                                                                                                                                                                                                                                                                                                                                                                                                                                                                                                                                                                                                                                                                                                                                                                                                                                                                                                                                                                                                                                                                                                                                                                                                                                                                                                                                                                                                                                                           embeddings                                                                                                                                                                                                                                                                                                                                                                                                                                                                                                                                                                                                                                                                                                                                                                                                                                                                                                                                                                                                                                                                                                                                                                                                                                                                                                                                                                                                                                                                                                                                                                                                                                                                                                                                                                                                                                                                                                                                                                                                                                                                                                                                                                                                                                                                                                                                                                                                                                                                                                                                                                                                                                            │              metadata               │\n",
       "│ int64 │        varchar        │    boolean     │ varchar  │    varchar    │                                                                                    varchar                                                                                    │                         varchar                          │  boolean   │   boolean   │   boolean   │   boolean   │   boolean   │   boolean   │   boolean   │   boolean   │   boolean   │   boolean   │   boolean   │   boolean   │   boolean   │   boolean   │   boolean   │   boolean   │   boolean   │   boolean   │   boolean   │   boolean    │   boolean    │   boolean    │   boolean    │   boolean    │   boolean    │   boolean    │   boolean    │   boolean    │   boolean    │   boolean    │   boolean    │   boolean    │   boolean    │   boolean    │   boolean    │   boolean    │   boolean    │    boolean     │    boolean    │    boolean     │          boolean           │    boolean    │    boolean    │           boolean            │     boolean      │   boolean    │      boolean       │        boolean        │  boolean  │   boolean    │   boolean    │      boolean      │    boolean     │    boolean     │   boolean    │    boolean     │        boolean        │   boolean   │  boolean   │    boolean    │  boolean   │     boolean     │     boolean      │    boolean     │    boolean     │         boolean         │     boolean      │      boolean       │  boolean  │  double   │ double  │ double │ double │  double  │  double   │   double   │                                                                                                                                       varchar                                                                                                                                       │                                                                                                                                                                                                                                                                                                                                                                                                                                                                                                                                                                                                                                                                                                                                                                                                                                                                                                                                                                                                                                                                                                                                                                                                                                                                                                                                                                                                                                                                                                                                                                                                                                                                                                                                                                                                                                                                                                                                                                                                                                                                                                                                                                                                                                                                                                                                                                                                                                                                                                                                                                                                                                           float[384]                                                                                                                                                                                                                                                                                                                                                                                                                                                                                                                                                                                                                                                                                                                                                                                                                                                                                                                                                                                                                                                                                                                                                                                                                                                                                                                                                                                                                                                                                                                                                                                                                                                                                                                                                                                                                                                                                                                                                                                                                                                                                                                                                                                                                                                                                                                                                                                                                                                                                                                                                                                                                                            │               varchar               │\n",
       "├───────┼───────────────────────┼────────────────┼──────────┼───────────────┼───────────────────────────────────────────────────────────────────────────────────────────────────────────────────────────────────────────────────────────────────────────────┼──────────────────────────────────────────────────────────┼────────────┼─────────────┼─────────────┼─────────────┼─────────────┼─────────────┼─────────────┼─────────────┼─────────────┼─────────────┼─────────────┼─────────────┼─────────────┼─────────────┼─────────────┼─────────────┼─────────────┼─────────────┼─────────────┼──────────────┼──────────────┼──────────────┼──────────────┼──────────────┼──────────────┼──────────────┼──────────────┼──────────────┼──────────────┼──────────────┼──────────────┼──────────────┼──────────────┼──────────────┼──────────────┼──────────────┼──────────────┼────────────────┼───────────────┼────────────────┼────────────────────────────┼───────────────┼───────────────┼──────────────────────────────┼──────────────────┼──────────────┼────────────────────┼───────────────────────┼───────────┼──────────────┼──────────────┼───────────────────┼────────────────┼────────────────┼──────────────┼────────────────┼───────────────────────┼─────────────┼────────────┼───────────────┼────────────┼─────────────────┼──────────────────┼────────────────┼────────────────┼─────────────────────────┼──────────────────┼────────────────────┼───────────┼───────────┼─────────┼────────┼────────┼──────────┼───────────┼────────────┼─────────────────────────────────────────────────────────────────────────────────────────────────────────────────────────────────────────────────────────────────────────────────────────────────────────────────────────────────────────────────────────────────────────────────────┼─────────────────────────────────────────────────────────────────────────────────────────────────────────────────────────────────────────────────────────────────────────────────────────────────────────────────────────────────────────────────────────────────────────────────────────────────────────────────────────────────────────────────────────────────────────────────────────────────────────────────────────────────────────────────────────────────────────────────────────────────────────────────────────────────────────────────────────────────────────────────────────────────────────────────────────────────────────────────────────────────────────────────────────────────────────────────────────────────────────────────────────────────────────────────────────────────────────────────────────────────────────────────────────────────────────────────────────────────────────────────────────────────────────────────────────────────────────────────────────────────────────────────────────────────────────────────────────────────────────────────────────────────────────────────────────────────────────────────────────────────────────────────────────────────────────────────────────────────────────────────────────────────────────────────────────────────────────────────────────────────────────────────────────────────────────────────────────────────────────────────────────────────────────────────────────────────────────────────────────────────────────────────────────────────────────────────────────────────────────────────────────────────────────────────────────────────────────────────────────────────────────────────────────────────────────────────────────────────────────────────────────────────────────────────────────────────────────────────────────────────────────────────────────────────────────────────────────────────────────────────────────────────────────────────────────────────────────────────────────────────────────────────────────────────────────────────────────────────────────────────────────────────────────────────────────────────────────────────────────────────────────────────────────────────────────────────────────────────────────────────────────────────────────────────────────────────────────────────────────────────────────────────────────────────────────────────────────────────────────────────────────────────────────────────────────────────────────────────────────────────────────────────────────────────────────────────────────────────────────────────────────────────────────────────────────────────────────────────────────────────────────────────────────────────────────────────────────────────────────────────────────────────────────────────────────────────────────────────────────────────────────────────────────────────────────────────────────────────────────────────────────────────────────────────────────────────────────────────────────────────────────────────────────────────────────────────────────────────────────────────────────────────────────────────────────────────────────────────────────────────────────────────────────────────────────────────────────────────────────────────────────────────────────────────────────────────────────────────────────────────────────────────────────────────────────────────────────────────────────────────────────────────────────────────────────────────────────────────────────────────────────────────────────────────────────────────────────────────────────────────────────────────────────────────────────────────────────────────────────────────────────────────────────────────────────────────────────────────────────────────────────────────────────────────────────────────────────────────────────────────────────────────────────────────────────────────────────────────────────────────────────────────────────────────────────────────────────────────────────────────────────────────────────────────────────────────────────────────────────────────────────────────────────────────────────────────────────────────────────────────────────────────────────────────────────────────────────────────────────────────────────────────────────────────────────────────────────────────────────────────────────────────────────────────────────────────────────────────────────────────────────────────────────────────────────────────────────────────────────────────────────────────────────────────────────────────────────────────────────────────────────────────────────────────────────────────────────────────────────────────────────────────────────────────────────────────────────────────────────────────────────────────────────────────────────────────────────────────────────────────────────────────────────────────────────────────────────────────────────────────────────────────────────────────────────────────────────────────────────────────────────────────────────────────────────────────────────────────────────────────────────────────────────────────────────────────────────────────────────────────────────────────────────────────────────────────────────────────────────────────────────────────────────────────────────────────┼─────────────────────────────────────┤\n",
       "│     5 │ Julian Alps Trail Run │ false          │ Slovenia │ Kranjska Gora │ https://res.cloudinary.com/kavval/image/upload/h_380,w_380,g_auto,c_lfill,q_auto:low,f_auto/events/europe/slovenie/jesenice/julian-alps-trail-run/AdobeStock_280287447_wb2qxw │ https://www.finishers.com/en/event/julian-alps-trail-run │ false      │ true        │ true        │ false       │ true        │ false       │ false       │ false       │ false       │ false       │ false       │ true        │ false       │ false       │ false       │ false       │ false       │ false       │ false       │ true         │ false        │ false        │ false        │ false        │ false        │ false        │ false        │ false        │ false        │ false        │ false        │ false        │ false        │ true         │ false        │ false        │ false        │ false          │ false         │ false          │ false                      │ false         │ false         │ false                        │ false            │ false        │ false              │ false                 │ false     │ true         │ false        │ false             │ false          │ false          │ true         │ false          │ false                 │ false       │ false      │ false         │ false      │ false           │ false            │ false          │ false          │ false                   │ true             │ false              │ NULL      │      NULL │    NULL │    9.0 │ 2025.0 │     NULL │ 46.485132 │ 13.7843957 │ passage: Julian Alps Trail Run takes place in Kranjska Gora, Slovenia on 9/2025.\\n            The different distances offered are 10, 15, 25, 60, 100, 170 km, the disciplines are Trail and the styles are Forest, Nature.\\n            The event is multidays and lasts nan days. │ [-0.079987764, 0.03809658, -0.018317556, 0.074069515, -0.02085792, 0.021628993, -0.0071836496, -0.052803617, -0.011523135, 0.024743872, 0.035660442, -0.024322335, -0.06307331, 0.00981401, -0.023929356, -0.04569694, -0.012919674, 0.052017465, -0.10667659, 0.059924487, 0.09528235, -0.088744275, 0.061143935, -0.11213586, -0.030077854, -0.0044565364, 0.062193524, 0.030448746, -0.08429761, -0.17598003, -0.07735728, 0.013606292, -0.028177455, -0.047596794, 0.036061876, -0.012354066, -0.06863573, 0.024626855, -0.03416153, 0.07981, -0.022890462, -0.052519575, 0.028111674, -0.012282054, 0.013085352, 0.008595134, -0.10981124, -0.054219287, 0.047568433, 0.045080226, -0.054162584, -0.047510017, 0.055368807, -0.011466538, 0.004004691, 0.048779372, 0.04194736, 0.08930924, 0.0728643, 0.08339873, 0.047794092, -0.036259796, -0.15117714, 0.1217021, 0.061495263, 0.07998394, -0.057702173, 0.001228175, -0.0009949178, -0.023489306, -0.048458546, 0.060173966, -0.033104293, -0.005295347, -0.046943158, 0.07802961, -0.018828407, 0.038026813, -0.09152496, -0.03919489, 0.0018269689, -0.06619207, -0.030454881, 0.054660548, -0.008752856, -0.06302989, 0.050366532, -0.012275068, -0.016997397, -0.025674347, -0.04304689, -0.023495212, -0.0167826, -0.0089405915, -0.005960384, 0.050994765, 0.04728282, 0.06954371, 0.016402923, 0.114008024, 0.03923742, 0.05157339, -0.036489464, 0.016657963, -0.031410392, -0.032491893, 0.015231477, 0.0034616746, 0.04174943, -0.012933988, 0.018841986, -0.016089438, 0.018055571, -0.05509559, 0.042453565, -0.0074301786, -0.016675107, -0.079876356, -0.03503433, 0.059122227, 0.033389572, 0.008664127, 0.036520254, 0.010344318, 0.06984403, -0.017486323, 0.07273833, 0.08242958, 0.068490446, -0.042480458, 0.09870854, 0.014488604, -0.02516128, 0.026166687, -0.0404159, -0.0032685613, -0.08332189, -0.009706803, 0.071869984, -0.020154344, -0.039499298, -0.06880463, -0.012192675, -0.11286819, 0.036116272, 0.072350994, -0.061125986, 0.04373467, -0.041022364, -0.10440621, -0.03263624, -0.019670367, 0.057503287, 0.0023230864, -0.019113943, 0.017357996, -0.031210143, 0.062162276, -0.06869923, -0.011546242, -0.09366765, -0.0017174042, 0.06758321, 0.11044312, 0.010639904, -0.12401409, 0.018191919, -0.013491699, 0.08119277, -0.088442065, 0.047758397, 0.055627253, 0.024637457, 0.015738888, 0.072767995, -0.013843887, -0.028401107, -0.03414194, -0.0042921635, -0.060503136, 0.01418258, -0.053138316, 0.010857168, 0.100213885, 0.010662141, -0.038178734, -0.019067314, -0.060018968, 0.043863036, -0.0072971233, -0.07363864, -0.015291486, -0.048293866, 0.0036883985, 0.07504869, 0.049207903, -0.08166427, -0.029916069, 0.008732046, -0.05020995, 0.069357164, 0.06812485, -0.042204227, 0.0063485056, -0.05150855, 0.07190109, 0.03933867, -0.026036168, -0.066837385, 0.009728042, 0.012826713, -0.0190046, 0.0024912988, -0.05978348, -0.030177236, -0.013200024, 0.017879229, 0.021439401, 0.0039277053, 0.07644792, 0.04136352, -0.070601106, -0.01032618, -0.116413616, 0.027102683, -0.04990744, 0.004306648, 0.09321398, 0.052826438, -0.02324512, 0.047717467, 0.0024193954, 0.016237415, 0.092595674, -0.017478373, -0.013213169, 0.03975963, 0.03927359, 0.04187693, -0.002635875, 0.016501049, 0.07181613, -0.030800872, -0.012860143, -0.04845662, -0.040272295, -0.06497803, -0.029218994, -0.010043072, 0.03455211, 0.08307341, 0.017744677, -0.025562298, 0.034935683, 0.044269454, 0.016625296, -0.07887412, 0.046263635, -0.07277725, 0.016900748, 0.019840015, -0.04096009, -0.046610806, 0.04626752, -0.010005842, 0.006120022, -0.011118614, 0.055410948, -0.058000837, -0.07724436, 0.029535647, 0.007397977, -0.06145282, 0.0054424466, -0.0065909494, 0.013494734, -0.052865703, -0.044944968, 0.015557895, -0.095883705, -0.0064838286, -0.0016700916, 0.00530478, -0.027239168, -0.04599445, 0.023150757, 0.008503964, 0.010858015, 0.04048255, -0.017010238, 0.004552145, -0.03562879, -0.05944868, 0.026571862, 0.06828616, -0.037364937, -0.00031066395, 0.05896526, 0.0032702375, 0.05947316, -8.875499e-08, 0.0096704615, -0.02544565, 0.0050315154, -0.07150834, -0.043795545, 0.033207245, 0.025023919, -0.0003083227, 0.0062165996, -0.05912207, -0.056939792, 0.018586718, 0.050273728, -0.026177566, 0.058081504, 0.03399161, 0.0030897255, -0.050490506, -0.14200746, 0.027836833, 0.062387493, -0.024266137, -0.000545385, 0.058765613, 0.05194689, -0.006919983, -0.04799577, -0.00856093, 0.07140765, 0.061090097, 0.08690767, 0.016998956, 0.009467112, 0.028356541, 0.065111384, -0.014513396, -0.004495071, -0.104953475, 0.045328636, 0.035321005, 0.13718116, 0.024807604, 0.01735859, 0.03737247, -0.010122441, 0.006868674, -0.024500357, 0.017960202, -0.008456692, -0.024935346, 0.07249965, -0.014785231, 0.06224924, 0.050194256, -0.021759164, 0.01974235, 0.033131845, -0.046829764, 0.06722791, 0.07112681, -0.06714639, -0.012623609, 0.096784815, 0.014970197, -0.10387555, -0.07044965, 0.020856025, -0.015465455, -0.034994498, -0.08295795, 0.09162357, 0.00604024, 0.04458235, 0.018717209, -0.010517496, -0.0278998, -0.07546883, -0.09205132, -0.0057397275, -0.065099806, -0.0042383266, -0.077911854, 0.020846684] │ { \"name\": \"Julian Alps Trail Run\" } │\n",
       "└───────┴───────────────────────┴────────────────┴──────────┴───────────────┴───────────────────────────────────────────────────────────────────────────────────────────────────────────────────────────────────────────────────────────────────────────────┴──────────────────────────────────────────────────────────┴────────────┴─────────────┴─────────────┴─────────────┴─────────────┴─────────────┴─────────────┴─────────────┴─────────────┴─────────────┴─────────────┴─────────────┴─────────────┴─────────────┴─────────────┴─────────────┴─────────────┴─────────────┴─────────────┴──────────────┴──────────────┴──────────────┴──────────────┴──────────────┴──────────────┴──────────────┴──────────────┴──────────────┴──────────────┴──────────────┴──────────────┴──────────────┴──────────────┴──────────────┴──────────────┴──────────────┴──────────────┴────────────────┴───────────────┴────────────────┴────────────────────────────┴───────────────┴───────────────┴──────────────────────────────┴──────────────────┴──────────────┴────────────────────┴───────────────────────┴───────────┴──────────────┴──────────────┴───────────────────┴────────────────┴────────────────┴──────────────┴────────────────┴───────────────────────┴─────────────┴────────────┴───────────────┴────────────┴─────────────────┴──────────────────┴────────────────┴────────────────┴─────────────────────────┴──────────────────┴────────────────────┴───────────┴───────────┴─────────┴────────┴────────┴──────────┴───────────┴────────────┴─────────────────────────────────────────────────────────────────────────────────────────────────────────────────────────────────────────────────────────────────────────────────────────────────────────────────────────────────────────────────────────────────────────────────────┴─────────────────────────────────────────────────────────────────────────────────────────────────────────────────────────────────────────────────────────────────────────────────────────────────────────────────────────────────────────────────────────────────────────────────────────────────────────────────────────────────────────────────────────────────────────────────────────────────────────────────────────────────────────────────────────────────────────────────────────────────────────────────────────────────────────────────────────────────────────────────────────────────────────────────────────────────────────────────────────────────────────────────────────────────────────────────────────────────────────────────────────────────────────────────────────────────────────────────────────────────────────────────────────────────────────────────────────────────────────────────────────────────────────────────────────────────────────────────────────────────────────────────────────────────────────────────────────────────────────────────────────────────────────────────────────────────────────────────────────────────────────────────────────────────────────────────────────────────────────────────────────────────────────────────────────────────────────────────────────────────────────────────────────────────────────────────────────────────────────────────────────────────────────────────────────────────────────────────────────────────────────────────────────────────────────────────────────────────────────────────────────────────────────────────────────────────────────────────────────────────────────────────────────────────────────────────────────────────────────────────────────────────────────────────────────────────────────────────────────────────────────────────────────────────────────────────────────────────────────────────────────────────────────────────────────────────────────────────────────────────────────────────────────────────────────────────────────────────────────────────────────────────────────────────────────────────────────────────────────────────────────────────────────────────────────────────────────────────────────────────────────────────────────────────────────────────────────────────────────────────────────────────────────────────────────────────────────────────────────────────────────────────────────────────────────────────────────────────────────────────────────────────────────────────────────────────────────────────────────────────────────────────────────────────────────────────────────────────────────────────────────────────────────────────────────────────────────────────────────────────────────────────────────────────────────────────────────────────────────────────────────────────────────────────────────────────────────────────────────────────────────────────────────────────────────────────────────────────────────────────────────────────────────────────────────────────────────────────────────────────────────────────────────────────────────────────────────────────────────────────────────────────────────────────────────────────────────────────────────────────────────────────────────────────────────────────────────────────────────────────────────────────────────────────────────────────────────────────────────────────────────────────────────────────────────────────────────────────────────────────────────────────────────────────────────────────────────────────────────────────────────────────────────────────────────────────────────────────────────────────────────────────────────────────────────────────────────────────────────────────────────────────────────────────────────────────────────────────────────────────────────────────────────────────────────────────────────────────────────────────────────────────────────────────────────────────────────────────────────────────────────────────────────────────────────────────────────────────────────────────────────────────────────────────────────────────────────────────────────────────────────────────────────────────────────────────────────────────────────────────────────────────────────────────────────────────────────────────────────────────────────────────────────────────────────────────────────────────────────────────────────────────────────────────────────────────────────────────────────────────────────────────────────────────────────────────────────────────────────────────────────────────────────────────────────────────────────────────────────────────────────────────────────────────────────────────────────────────────────────────────────────────────────────────────────────────────────────────────────────────────────────────────────────────────────────────────────────────────────────────────────────────────────────────────────────────────────────────────────────────────────────────────────────────────────────────────────────────────────────────────────────────────────────────────────────────────────────────────────────────────────────────────────────────────────────────────────────────────────────────────────────────────────────────────────────────┴─────────────────────────────────────┘"
      ]
     },
     "execution_count": 76,
     "metadata": {},
     "output_type": "execute_result"
    }
   ],
   "source": [
    "db.sql(f\"\"\"select * from UTMB where id == 5 \"\"\")\n"
   ]
  },
  {
   "cell_type": "code",
   "execution_count": 55,
   "id": "adea6d32",
   "metadata": {},
   "outputs": [],
   "source": [
    "db.close()"
   ]
  },
  {
   "cell_type": "code",
   "execution_count": null,
   "id": "e48760d4",
   "metadata": {},
   "outputs": [],
   "source": []
  },
  {
   "cell_type": "markdown",
   "id": "39895e56",
   "metadata": {},
   "source": [
    "## START with a text only RAG approach, we are embedding here so that we can try multiple models."
   ]
  },
  {
   "cell_type": "code",
   "execution_count": 2,
   "id": "b3dc8f32",
   "metadata": {},
   "outputs": [
    {
     "name": "stderr",
     "output_type": "stream",
     "text": [
      "/Users/thibtd/some fun/utmb_data_eng/.venv/lib/python3.12/site-packages/tqdm/auto.py:21: TqdmWarning: IProgress not found. Please update jupyter and ipywidgets. See https://ipywidgets.readthedocs.io/en/stable/user_install.html\n",
      "  from .autonotebook import tqdm as notebook_tqdm\n"
     ]
    }
   ],
   "source": [
    "from sentence_transformers import SentenceTransformer\n",
    "import torch"
   ]
  },
  {
   "cell_type": "code",
   "execution_count": 3,
   "id": "dbb8b725",
   "metadata": {},
   "outputs": [],
   "source": [
    "torch.mps.empty_cache()"
   ]
  },
  {
   "cell_type": "code",
   "execution_count": 4,
   "id": "868d8cde",
   "metadata": {},
   "outputs": [],
   "source": [
    "qwen_3_emb =HuggingFaceEmbeddings(model=\"Qwen/Qwen3-Embedding-0.6B\", encode_kwargs={'batch_size': 8},show_progress=True)"
   ]
  },
  {
   "cell_type": "code",
   "execution_count": 5,
   "id": "02d37dd4",
   "metadata": {},
   "outputs": [],
   "source": [
    "text_df = pd.read_csv(\"../data_test/utmb_text.csv\")"
   ]
  },
  {
   "cell_type": "code",
   "execution_count": 6,
   "id": "669ccb52",
   "metadata": {},
   "outputs": [
    {
     "name": "stderr",
     "output_type": "stream",
     "text": [
      "Batches: 100%|██████████| 4/4 [00:08<00:00,  2.03s/it]\n"
     ]
    }
   ],
   "source": [
    "text_df['embeddings'] = qwen_3_emb.embed_documents(text_df['description'].to_list())"
   ]
  },
  {
   "cell_type": "code",
   "execution_count": 7,
   "id": "4d56f1ed",
   "metadata": {},
   "outputs": [
    {
     "data": {
      "text/html": [
       "<div>\n",
       "<style scoped>\n",
       "    .dataframe tbody tr th:only-of-type {\n",
       "        vertical-align: middle;\n",
       "    }\n",
       "\n",
       "    .dataframe tbody tr th {\n",
       "        vertical-align: top;\n",
       "    }\n",
       "\n",
       "    .dataframe thead th {\n",
       "        text-align: right;\n",
       "    }\n",
       "</style>\n",
       "<table border=\"1\" class=\"dataframe\">\n",
       "  <thead>\n",
       "    <tr style=\"text-align: right;\">\n",
       "      <th></th>\n",
       "      <th>id</th>\n",
       "      <th>name</th>\n",
       "      <th>distance</th>\n",
       "      <th>description</th>\n",
       "      <th>embeddings</th>\n",
       "    </tr>\n",
       "  </thead>\n",
       "  <tbody>\n",
       "    <tr>\n",
       "      <th>0</th>\n",
       "      <td>1</td>\n",
       "      <td>Nice Côte d'Azur</td>\n",
       "      <td>20</td>\n",
       "      <td>On the trails along the Nice coastline\\nEmbark...</td>\n",
       "      <td>[0.04840404540300369, 0.05893983691930771, -0....</td>\n",
       "    </tr>\n",
       "    <tr>\n",
       "      <th>1</th>\n",
       "      <td>2</td>\n",
       "      <td>Nice Côte d'Azur</td>\n",
       "      <td>55</td>\n",
       "      <td>An Azure epic\\nStarting at the mythical Col d'...</td>\n",
       "      <td>[0.06165490671992302, 0.06873076409101486, -0....</td>\n",
       "    </tr>\n",
       "    <tr>\n",
       "      <th>2</th>\n",
       "      <td>3</td>\n",
       "      <td>Nice Côte d'Azur</td>\n",
       "      <td>105</td>\n",
       "      <td>The discovery of Nice County\\nFrom the mountai...</td>\n",
       "      <td>[-0.04237787425518036, 0.04705025255680084, -0...</td>\n",
       "    </tr>\n",
       "    <tr>\n",
       "      <th>3</th>\n",
       "      <td>4</td>\n",
       "      <td>Nice Côte d'Azur</td>\n",
       "      <td>160</td>\n",
       "      <td>From the Mercantour to the French Riviera\\nAn ...</td>\n",
       "      <td>[-0.03055475279688835, 0.06577242165803909, -0...</td>\n",
       "    </tr>\n",
       "    <tr>\n",
       "      <th>4</th>\n",
       "      <td>5</td>\n",
       "      <td>Kaçkar</td>\n",
       "      <td>20</td>\n",
       "      <td>KAÇKAR 20K\\nYou’ll find yourself running throu...</td>\n",
       "      <td>[0.03057355247437954, 0.0002405015693511814, -...</td>\n",
       "    </tr>\n",
       "  </tbody>\n",
       "</table>\n",
       "</div>"
      ],
      "text/plain": [
       "   id              name  distance  \\\n",
       "0   1  Nice Côte d'Azur        20   \n",
       "1   2  Nice Côte d'Azur        55   \n",
       "2   3  Nice Côte d'Azur       105   \n",
       "3   4  Nice Côte d'Azur       160   \n",
       "4   5            Kaçkar        20   \n",
       "\n",
       "                                         description  \\\n",
       "0  On the trails along the Nice coastline\\nEmbark...   \n",
       "1  An Azure epic\\nStarting at the mythical Col d'...   \n",
       "2  The discovery of Nice County\\nFrom the mountai...   \n",
       "3  From the Mercantour to the French Riviera\\nAn ...   \n",
       "4  KAÇKAR 20K\\nYou’ll find yourself running throu...   \n",
       "\n",
       "                                          embeddings  \n",
       "0  [0.04840404540300369, 0.05893983691930771, -0....  \n",
       "1  [0.06165490671992302, 0.06873076409101486, -0....  \n",
       "2  [-0.04237787425518036, 0.04705025255680084, -0...  \n",
       "3  [-0.03055475279688835, 0.06577242165803909, -0...  \n",
       "4  [0.03057355247437954, 0.0002405015693511814, -...  "
      ]
     },
     "execution_count": 7,
     "metadata": {},
     "output_type": "execute_result"
    }
   ],
   "source": [
    "text_df.head()"
   ]
  },
  {
   "cell_type": "code",
   "execution_count": 8,
   "id": "e89c6924",
   "metadata": {},
   "outputs": [],
   "source": [
    "query = \"What race is along the sea?\""
   ]
  },
  {
   "cell_type": "code",
   "execution_count": 35,
   "id": "eba89c27",
   "metadata": {},
   "outputs": [],
   "source": [
    "query_emb = qwen_3_emb.embed_query(query)"
   ]
  },
  {
   "cell_type": "code",
   "execution_count": 9,
   "id": "c47f46c5",
   "metadata": {},
   "outputs": [],
   "source": [
    "from langchain_chroma import Chroma"
   ]
  },
  {
   "cell_type": "code",
   "execution_count": 13,
   "id": "660d0e08",
   "metadata": {},
   "outputs": [],
   "source": [
    "vector_store = Chroma(\n",
    "    collection_name=\"UTMB_text\",\n",
    "    embedding_function=qwen_3_emb,\n",
    "    persist_directory=\"../data_test/chroma_utmb_db\", \n",
    ")"
   ]
  },
  {
   "cell_type": "code",
   "execution_count": 24,
   "id": "a37a7f24",
   "metadata": {},
   "outputs": [],
   "source": [
    "from langchain_community.document_loaders.csv_loader import CSVLoader\n",
    "\n",
    "\n",
    "loader = CSVLoader(file_path='../data_test/utmb_text.csv')\n",
    "data = loader.load()"
   ]
  },
  {
   "cell_type": "code",
   "execution_count": 25,
   "id": "17746acc",
   "metadata": {},
   "outputs": [
    {
     "data": {
      "text/plain": [
       "[Document(metadata={'source': '../data_test/utmb_text.csv', 'row': 0}, page_content=\"id: 1\\nname: Nice Côte d'Azur\\ndistance: 20\\ndescription: On the trails along the Nice coastline\\nEmbark on an adventure of 22km with 700m elevation gain through a course between land and sea, starting from the port of Saint-Jean-Cap-Ferrat, along the trails of the French Riviera.\\n\\nSet off on a nearly complete tour of the peninsula, starting from the port of Saint-Jean-Cap-Ferrat, before climbing towards the Chapelle St Grat. From there, head towards the Plateau St Michel, offering a breathtaking view towards Cap Ferrat and then to Col 4 Chemins. After a beautiful passage along the Mediterranean trails, you'll descend back towards the coast. A final short climb up the Château hill will reward you with a view of the Bay of Angels before you cross the finish line on the famous Promenade des Anglais.\\n\\nThis semi-urban course features 50% of its route along the seaside, promising you an extraordinary experience not to be missed. It will be hard to resist taking a refreshing dip in the Mediterranean Sea once you've crossed the finish line and acquired the precious Running Stone.\"),\n",
       " Document(metadata={'source': '../data_test/utmb_text.csv', 'row': 1}, page_content=\"id: 2\\nname: Nice Côte d'Azur\\ndistance: 55\\ndescription: An Azure epic\\nStarting at the mythical Col d'Eze, at an altitude of 500m, you will experience a 54km adventure with 2,100 of D+ (vertical gain).\\n\\nThe route begins in the Grande Corniche Departmental Park, winds around the Fort de la Revère and climbs above La Turbie to the Cime de Cabanelle at 1,090m. Once you reach the Epaule de la Cime du Baudon at 1,200m, you can admire the panoramic views over the Mercantour, the French Riviera, the Mediterranean and the hinterland of Nice.\\n\\nThe descent takes you to the hilltop villages of Peille and Peillon, then along an old irrigation canal, where you will join the 100K and 100M course. The foothills of the Côte d'Azur Prealps via the Mont Leuze trails (at 42 kms into the race) are your final challenge. At the foot of Mont Leuze, the last refreshment point at Plateau Saint-Michel overlooks the harbour of Villefranche/mer and Cap Ferrat.\\n\\nCourse highlights: the trails overlooking Nice, Port Lympia (the Old Port of Nice) with its famous ‘pointus’ (colourful traditional fishing boats), and the finish line on the legendary Promenade des Anglais. An unforgettable race that combines mountains and the Mediterranean against a majestic backdrop.\"),\n",
       " Document(metadata={'source': '../data_test/utmb_text.csv', 'row': 2}, page_content=\"id: 3\\nname: Nice Côte d'Azur\\ndistance: 105\\ndescription: The discovery of Nice County\\nFrom the mountains and their beautiful forests to the typical scrubland of the Nice hinterland and the shining waters of the Mediterranean sea, the variety of landscapes in this 107km and 4500 m+ route will leave you with unforgettable memories. Roubion - a small village built on the side of a cliff in the south of the Mercantour National Park - will be the starting point. After the first few kilometers on the Vignols track, you will reach the 100-mile course where the ridges located between the Tinée and Vésubie valleys which offer a superb view of the Alps and the main Mercantour peaks. After passing the 4 mounts, you will then plunge southwards towards the Mediterranean Sea, which you will follow before celebrating your arrival at the Promenade des Anglais.\"),\n",
       " Document(metadata={'source': '../data_test/utmb_text.csv', 'row': 3}, page_content=\"id: 4\\nname: Nice Côte d'Azur\\ndistance: 160\\ndescription: From the Mercantour to the French Riviera\\nAn iconic distance, the 100-mile race starts from Auron and quickly reaches the highest point of the course at more than 2,650 meters above sea level: the Rabuons and its unique landscapes along the Chemin de l’Energie. After winding through chestnut forests and following the meandering Tinée river, you will walk along the wonders of the Mercantour massif and then cross beautiful ridges at the halfway point at more than 2,000m above sea level. Then, head south through more Mediterranean landscapes. A last effort to cross the 4 mounts: Mont Leuze, Mont Vinaigrier, Mont Alban and Mont Boron, and at the bend of a steep staircase, you will find yourself by the sea, a magical landscape so different from anything you have experienced. The final stretch along the coast will take you to the coveted finish on the Promenade des Anglais. With a total of 8200M+.\"),\n",
       " Document(metadata={'source': '../data_test/utmb_text.csv', 'row': 4}, page_content=\"id: 5\\nname: Kaçkar\\ndistance: 20\\ndescription: KAÇKAR 20K\\nYou’ll find yourself running through lush green forests between Ayder and Huser, surrounded by a mesmerising variety of wildlife and massive boulders. This part of the course (about 5 km) is challenging with an elevation gain of almost 1300 meters.\\nHowever, this hardship is followed by a sweet descent. The region's unique plants and rare animals are a delight for nature enthusiasts. The serene beauty and enchanting atmosphere of the Kaçkars beckon you to enter a magical world that will leave a lasting impression on your heart.\\n\\nIt is a perfect course for beginners of trail running. With a total of 1300M+.\"),\n",
       " Document(metadata={'source': '../data_test/utmb_text.csv', 'row': 5}, page_content='id: 6\\nname: Kaçkar\\ndistance: 45\\ndescription: KAÇKAR 50K\\nIn the Kaçkar Mountains, tackle an exhilarating 50K - with 44K of length and over 3,000 m of demanding elevation gain. Wind your way through vibrant forests and misty valleys , with panoramic views of Kemer Dağı and mountain lakes just outside Yukarı Ceymakçur awaiting you. The rugged terrain and crisp mountain air challenge your endurance, while the Hazindak unique flora and Samistal Plateau’s 300 year-old stone houses keep you captivated.\\n\\nThis isn’t just a race; it’s an immersive adventure into the raw beauty of nature.'),\n",
       " Document(metadata={'source': '../data_test/utmb_text.csv', 'row': 6}, page_content='id: 7\\nname: Kaçkar\\ndistance: 75\\ndescription: KAÇKAR 100K\\nIn the Kaçkar Mountains, you can run through emerald green forests and misty valleys while observing the captivating diversity of wildlife. Climbing the high peaks and getting lost among the clouds while hearing the sharp sound of the wind offers a breathtaking experience. The endemic plants and rare animal species of this region amaze nature-loving adventurers. The tranquil beauty and mystical atmosphere of the Kaçkar Mountains invite you to step into a fairytale world that will capture your heart.\\n\\nThe 100K race has a length of 81 km and an elevation of 5400 m. Along the route, you will discover 12 very different villages, peak mountains, lakes and endemic plants.'),\n",
       " Document(metadata={'source': '../data_test/utmb_text.csv', 'row': 7}, page_content='id: 8\\nname: KAT100 Austria\\ndistance: 10\\ndescription: This discipline leads over hill and dale, past the beautiful Lauchsee lake and along a mountain stream. It is the perfect distance for beginners to gain their first trail running experiences but also for those who are up for a short and fast race. With 250M+.'),\n",
       " Document(metadata={'source': '../data_test/utmb_text.csv', 'row': 8}, page_content='id: 9\\nname: KAT100 Austria\\ndistance: 25\\ndescription: 1,650 meters of altitude, a dreamlike summit experience and fast downhill passages\\nFrom the village centre of Fieberbrunn in the Pillerseetal, this trail takes you past the Wildseelodersee to the panoramic summit of the Wildseeloder and over the Seenieder back to the finish - always passing cheering spectators along the route and at the finish.'),\n",
       " Document(metadata={'source': '../data_test/utmb_text.csv', 'row': 9}, page_content='id: 10\\nname: KAT100 Austria\\ndistance: 50\\ndescription: The marathon distance offers gorgeous trails and even more beautiful views\\nThe summit of the Wildseeloder and the magnificent view over the idyllic mountain lake must be earned with a challenging first ascent. Back in the valley, a steadily ascending route on fantastic flowing trails leads along panoramic mountain paths back towards Wildseelodersee and then back to the finish in the centre of Fieberbrunn in Pillerseetal. With 350M+ of elevation gain.'),\n",
       " Document(metadata={'source': '../data_test/utmb_text.csv', 'row': 10}, page_content='id: 11\\nname: KAT100 Austria\\ndistance: 80\\ndescription: Experience an unforgettable running adventure through the night\\nThis unforgettable trail starts at midnight in Kitzbühel, from where you first have to tackle the challenging Hahnenkamm. Following by breathtaking panoramic trails through the Kitzbühel Alps and over picturesque grassy mountains. After a mystical sunrise in the mountains and numerous altitude differences, the next big challenge awaits: The ascent to the Fieberbrunner Höhenweg, where the finish in Fieberbrunn awaits you after a total of 81 kilometres. Are you ready for this unforgettable adventure?\\n\\nInformation for Endurance Trail starters: The race briefing for the Endurance Trail takes place in Fieberbrunn. From there, all participants can take a shuttle to the start in Kitzbühel. The finish - as with all other races - is also in Fieberbrunn in Pillerseetal. With 4800M+.'),\n",
       " Document(metadata={'source': '../data_test/utmb_text.csv', 'row': 11}, page_content='id: 12\\nname: KAT100 Austria\\ndistance: 175\\ndescription: 100 Miles of Full Highlights\\nIn addition to fantastic conditions and incredible scenery, the summit of the Wildseeloder awaits you right at the beginning in the Golden Hour, the illuminated Jakobskreuz in the dark and later the sunrise at the Kitzbüheler Horn. Fantastic flowing trails on high panoramic paths and rocky passages will lead you through the famous grassy mountains of the Kitzbühel Alps. With 9900M+.'),\n",
       " Document(metadata={'source': '../data_test/utmb_text.csv', 'row': 12}, page_content='id: 13\\nname: UTMB®\\ndistance: 15\\ndescription: A SURPRISING ADVENTURE\\nStart in Courmayeur, an iconic village in the Mont Blanc landscape, and embark on a 15km race with a beastly 1200 meters of total elevation gain in the heart of the Italian Alps. This summer, the course will evolve slightly with a more progressive climb up to the impressive balconies of the Aosta Valley, facing the Mont-Blanc, before continuing on to complete the loop back into Courmayeur. This appealing yet challenging format is ideal for runners who would like to put themselves to the test and be part of the HOKA UTMB® Mont-Blanc.\\n\\nBe careful, short format does not always mean simple format: the ETC features 15 kilometers and 1200 meters of elevation gain. In trail running, we often talk about \"kilometer effort\", considering both the distance and elevation gain to calculate the perceived distance: the km-effort is calculated by adding 1km to the race distance for every 100 meters of elevation gain. The ETC is therefore 27 km-effort of wonder, sharing and challenging your limits!\\n\\nIn other words, the Experience Trail Courmayeur contains amazing landscapes in the heart of the Italian Alps, a great challenge to enter the trail running adventure and the possibility to taste an authentic pizza just after crossing the finish line.'),\n",
       " Document(metadata={'source': '../data_test/utmb_text.csv', 'row': 13}, page_content=\"id: 14\\nname: UTMB®\\ndistance: 40\\ndescription: COMING TOGETHER AROUND A COMMON PASSION\\nAn adventure from Switzerland to France on a 40km course with 2300m of elevation gain. This race aims to bring teams together and share the passion of trail running. This is why UTMB volunteers, partners and locals of the Mont-Blanc valley have priority in registering for this race. It takes place entirely during the day and allows volunteers and partners the UTMB experience while still being able to honor their commitment to their team the rest of the week.\\n\\nOn a more accessible distance, it gives runners a feel for the ambiance of at the height of the world's trail running scene, with same quality standards as the other UTMB races. From the start line in Martigny-Combe, you will climb to the Col de la Forclaz before pushing yourself to reach the emblematic Col de Balme. Crossing through some of the most beautiful hamlets of the upper Chamonix valley, you will descend towards the mythic finish line in the heart of the village. with 2350M+\"),\n",
       " Document(metadata={'source': '../data_test/utmb_text.csv', 'row': 14}, page_content=\"id: 15\\nname: UTMB®\\ndistance: 55\\ndescription: THE LITTLE SWISS SISTER\\nThe ultimate challenge for middle-distance runners, the OCC will start on a 55km course with 3,425 meters of positive elevation gain from Orsières, located in the south-western part of the canton of Valais in the Val d'Entremont.\\n\\nThis Swiss valley will amaze you with its unique landscapes: The OCC route will take you to the heart of this particular and typical nature before reaching Champex-Lac and Trient. You will then cross the Franco-Swiss border by the emblematic Balme pass and its sublime panorama on the Mont-Blanc massif. Once you have reached the last difficulty of the course and the ascent to La Flégère, you will only have to enjoy the descent and savor your performance by crossing the mythical finish arch in the center of Chamonix under the cheers of families and spectators.\"),\n",
       " Document(metadata={'source': '../data_test/utmb_text.csv', 'row': 15}, page_content='id: 16\\nname: UTMB®\\ndistance: 100\\ndescription: ONE OF THE MOST PRESTIGIOUS RACES IN THE WORLD\\nThe CCC has grown from being the \"little sister of the UTMB\" to becoming one of the most prestigious races in the world.\\n\\nThe start line in the center of Courmayeur overflows with an atmosphere that only Italians know how to create. After the first kilometers, you will quickly climb to 2500m of altitude to enjoy an exceptional landscape, facing the Mont-Blanc and the Grandes Jorasses. The path to the Grand col Ferret invites you to cross into Switzerland, where you will enjoy the incomparable welcome of the volunteers of La Fouly, Champex and Trient. Once across the border in France, discover the authenticity of Vallorcine, before climbing up to Vallons des Chezerys, a true corner of paradise with a magnificent view over the Mont-Blanc chain. It is then time to push through and receive a hero\\'s welcome across the finish line in the heart of Chamonix. With a total of 6050M+.'),\n",
       " Document(metadata={'source': '../data_test/utmb_text.csv', 'row': 16}, page_content='id: 17\\nname: UTMB®\\ndistance: 150\\ndescription: ON LES TRACES DES DUCS DE SAVOIE\\nBeautiful, technical, wild, demanding, there are not enough adjectives to describe the TDS. Acronym for \"Sur les Traces des Ducs de Savoie\" (following the footprints of the Dukes of Savoie), the TDS links the Aosta Valley to the Savoie, allowing you to discover the villages of the Tour du Mont-Blanc and the mountains that surround them. To cross this unique playground is to walk where history and mountains, the technical terrain and the kindness of its inhabitants blend together.\\n\\nIn addition to its traditional departure from Courmayeur, the new edition of the TDS takes you through the Beaufortain region winding through the most amazing places of the massif such as Pas d\\'Outray, with its breathtaking view of the Pierra Menta and Grand Mont - two mythical places for ski mountaineering. Not to mention Hauteluce with its typical hamlets and its breathtaking view of Mont-Blanc. With its unique landscapes, its friendly and alpine atmosphere, the TDS is more than ever a world-class event and the adventure of a lifetime. It is up to you to come and write the history of this spectacular race. With a toal of 9300 M+.'),\n",
       " Document(metadata={'source': '../data_test/utmb_text.csv', 'row': 17}, page_content='id: 18\\nname: UTMB®\\ndistance: 175\\ndescription: THE ULTIMATE REFERENCE IN TRAIL RUNNING\\nCreated in 2003, the UTMB is \"the most mythical and prestigious trail running race in the world\" with approximately 170 kilometers and 10,000 meters of positive elevation gain around the Mont-Blanc through Italy, Switzerland and France. A race like no other, it transcends the sport, and has established itself as an iconic trail race, renowned worldwide.\\n\\nNo matter the time it takes to finish, whether done in under 20 hours or more than 46, the elite runners as well as amateur runners share the same adventure on the same exceptional course, carried by the stunning beauty of the landscapes and a common goal: to cross the finish line in Chamonix. Much more than a race, it is an introspective adventure which transforms every person that takes on the challenge.'),\n",
       " Document(metadata={'source': '../data_test/utmb_text.csv', 'row': 18}, page_content='id: 19\\nname: UTMB®\\ndistance: 300\\ndescription: LA PETITE TROTTE À LÉON\\nWith its unique concept and its specific features, the PTL sets apart from other races. The spirit of the PTL is based on mental commitment, team spirit and adventure, as well as on sporting and mountain values.\\n\\nThis ultra endurance race takes participants on a grand tour of the Mont-Blanc (300km and 25000m of D+), covering high altitude trails, without any way-marking, which requires a sense of orientation on and off the trails. The course changes every year and allows for runners to discover the rich diversity of the French, Italian and Swiss trails of the Mont Blanc massif.\\n\\nThe 2025 course - winding through the ever-present Mont-Blanc and its prestigious satellites - is again this year innovative and out of the ordinary. You will cross little-known places, often difficult to access and offering breathtaking views.'),\n",
       " Document(metadata={'source': '../data_test/utmb_text.csv', 'row': 19}, page_content='id: 20\\nname: Julian Alps Trail Run\\ndistance: 10\\ndescription: Easy, but not even a bit less attractive trail is perfect for runners, who are still getting to know trail running. The route, during which you stay on the edge of Triglav National Park, is mostly a wide cart track, but it still gives you the feel of real mountain routes and the view of magnificent mountain Špik in the background.\\n\\nThe 10 kilometers with start in the center of Kranjska Gora and take you to river Pišnica. You pass the stunning lake Jasna next, where you simply have to hit pause and take a beautiful running selfie. From there you slowly continue towards the route’s highest point.\\n\\nYou go through Tofov graben forests and continue towards Gozd Martuljek. The last segment might be flat, but offers amazing views of the mountains, including the magnificent Špik. The route’s terrain might be easy, but it’s still a beautiful combination of road running, cart tracks and single trails. with a total of 300 M+.'),\n",
       " Document(metadata={'source': '../data_test/utmb_text.csv', 'row': 20}, page_content='id: 21\\nname: Julian Alps Trail Run\\ndistance: 15\\ndescription: The first part of the trail takes you on the same route as the 10 km, but then extends to give you some more fun beneath the stunning peaks of Julian Alps. The route is easy, with no technical sections, making it possible for you to enjoy those mountain views even more.\\n\\nYou’ll start in the heart of Kranjska Gora, go to the river Pišnica and then pass the stunning lake Jasna.\\n\\nThe route also goes through Tofov graben forests, but just when the shortest route starts making its way back to Kranjska Gora, you turn right to Gozd Martuljek, where you cross the main road right under the bridge and climb Srednji vrh, while passing the lower Jerman waterfall. That’s where you get a stunning view of the Julian Alps, which will follow you right back to the finish line. With a total of 550M+.'),\n",
       " Document(metadata={'source': '../data_test/utmb_text.csv', 'row': 21}, page_content='id: 22\\nname: Julian Alps Trail Run\\ndistance: 25\\ndescription: The 25 km trail is a circular route around Kranjska Gora, which will reveal beautiful views of the Julian Alps.\\n\\nThe first part of the route is the same as our 15 km distance: to kick everything off, the route takes you to Lake Jasna and then in the direction of Gozd Martuljek. From there, you will climb up to the scenic Srednji Vrh, where you can enjoy a breath-taking view of Julian Alps.\\n\\nIn the second part, this route takes you to the village of Podkoren, where you will also be able to freshen up at your final refreshment station. Finally, there is only the climb below Vitranc and descent in the direction of Kranjska Gora. With a total of 1050 M+.'),\n",
       " Document(metadata={'source': '../data_test/utmb_text.csv', 'row': 22}, page_content='id: 23\\nname: Julian Alps Trail Run\\ndistance: 60\\ndescription: The 25 km trail is a circular route around Kranjska Gora, which will reveal beautiful views of the Julian Alps.\\n\\nThe first part of the route is the same as our 15 km distance: to kick everything off, the route takes you to Lake Jasna and then in the direction of Gozd Martuljek. From there, you will climb up to the scenic Srednji Vrh, where you can enjoy a breath-taking view of Julian Alps.\\n\\nIn the second part, this route takes you to the village of Podkoren, where you will also be able to freshen up at your final refreshment station. Finally, there is only the climb below Vitranc and descent in the direction of Kranjska Gora. With a total of 2700 M+.'),\n",
       " Document(metadata={'source': '../data_test/utmb_text.csv', 'row': 23}, page_content=\"id: 24\\nname: Julian Alps Trail Run\\ndistance: 100\\ndescription: The 80 km route will allow you to discover some more alpine trails in the area od Julian Alps. You’ll start your trail running journey by the world-famous Lake Bled, including the picturesque Vintgar Gorge, where you'll enjoy stunning views of the castle and the lake's tiny island.\\n\\nAfterwards the biggest climb of your race awaits you – there is 1700 meters of elevation gain waiting for you from Žirovnica towards Mt. Stol (2174 m). But all your effort will be worth it, as you’ll run along one of the most stunning Slovenian mountain ridges after you reach the top. From Stol, along Golica and towards Klek – there's almost 30 kilometers of incredible trails.\\n\\nThen you’ll descend towards the Upper Sava Valley, where you’ll see river Sava again. There is one more climb waiting for you – towards Srednji vrh, where you’ll enjoy one of the most breath-taking views of Julian Alps. Then you only have 5 kilometers of descent left and you’ll be at the finish line in Kranjska Gora. With a total of 3800 M+.\"),\n",
       " Document(metadata={'source': '../data_test/utmb_text.csv', 'row': 24}, page_content='id: 25\\nname: Julian Alps Trail Run\\ndistance: 170\\ndescription: Queen stage, taking you around Julian Alps, is a true challenge for all ultra-trail lovers. You start in historic town Radovljica – a truly unique experience with a lot of spectator. First you have to climb to the Jelovica and continue towards Babji zob. After the downhill you have another small climb and after that you reach iconic Lake Bled.\\n\\nFrom there the route takes you towards Žirovnica, right under stunning Karawanks peaks. This is where your climb towards the highest peak Stol begins. Don’t forget to take some pictures from the highest point of your race, because it’ll offer breath-taking views of Julian Alps.\\n\\nYour next stop from Stol is going across the ridge, right to Golica and Klek. From there you have a great downhill in store, taking you straight to Mojstrana. A flat section follows next, but you still have some climbing to do. You’ll start climbing in Gozd Martuljek and go towards Srednji vrh, which is only a downhill away from your finish in Kranjska Gora. With a total of 5940 M+.')]"
      ]
     },
     "execution_count": 25,
     "metadata": {},
     "output_type": "execute_result"
    }
   ],
   "source": [
    "data"
   ]
  },
  {
   "cell_type": "code",
   "execution_count": 17,
   "id": "d72db48d",
   "metadata": {},
   "outputs": [
    {
     "name": "stderr",
     "output_type": "stream",
     "text": [
      "Batches: 100%|██████████| 4/4 [00:33<00:00,  8.41s/it]\n"
     ]
    }
   ],
   "source": [
    "_ = vector_store.add_documents(documents=data)"
   ]
  },
  {
   "cell_type": "code",
   "execution_count": 18,
   "id": "1ccda0bf",
   "metadata": {},
   "outputs": [
    {
     "name": "stderr",
     "output_type": "stream",
     "text": [
      "Batches: 100%|██████████| 1/1 [00:00<00:00,  1.02it/s]\n"
     ]
    }
   ],
   "source": [
    "a = vector_store.similarity_search(query, k=5)"
   ]
  },
  {
   "cell_type": "code",
   "execution_count": 19,
   "id": "a55e069c",
   "metadata": {},
   "outputs": [
    {
     "data": {
      "text/plain": [
       "[Document(id='9ca98526-8145-4cd6-9c93-725cfc5d6702', metadata={'source': '../data_test/utmb_text.csv', 'row': 3}, page_content=\"id: 4\\nname: Nice Côte d'Azur\\ndistance: 160\\ndescription: From the Mercantour to the French Riviera\\nAn iconic distance, the 100-mile race starts from Auron and quickly reaches the highest point of the course at more than 2,650 meters above sea level: the Rabuons and its unique landscapes along the Chemin de l’Energie. After winding through chestnut forests and following the meandering Tinée river, you will walk along the wonders of the Mercantour massif and then cross beautiful ridges at the halfway point at more than 2,000m above sea level. Then, head south through more Mediterranean landscapes. A last effort to cross the 4 mounts: Mont Leuze, Mont Vinaigrier, Mont Alban and Mont Boron, and at the bend of a steep staircase, you will find yourself by the sea, a magical landscape so different from anything you have experienced. The final stretch along the coast will take you to the coveted finish on the Promenade des Anglais. With a total of 8200M+.\"),\n",
       " Document(id='961afc89-20fd-492e-ab79-e74b47773233', metadata={'row': 0, 'source': '../data_test/utmb_text.csv'}, page_content=\"id: 1\\nname: Nice Côte d'Azur\\ndistance: 20\\ndescription: On the trails along the Nice coastline\\nEmbark on an adventure of 22km with 700m elevation gain through a course between land and sea, starting from the port of Saint-Jean-Cap-Ferrat, along the trails of the French Riviera.\\n\\nSet off on a nearly complete tour of the peninsula, starting from the port of Saint-Jean-Cap-Ferrat, before climbing towards the Chapelle St Grat. From there, head towards the Plateau St Michel, offering a breathtaking view towards Cap Ferrat and then to Col 4 Chemins. After a beautiful passage along the Mediterranean trails, you'll descend back towards the coast. A final short climb up the Château hill will reward you with a view of the Bay of Angels before you cross the finish line on the famous Promenade des Anglais.\\n\\nThis semi-urban course features 50% of its route along the seaside, promising you an extraordinary experience not to be missed. It will be hard to resist taking a refreshing dip in the Mediterranean Sea once you've crossed the finish line and acquired the precious Running Stone.\"),\n",
       " Document(id='b995a3aa-71a9-4b58-bcc7-33f3ac5070d9', metadata={'source': '../data_test/utmb_text.csv', 'row': 2}, page_content=\"id: 3\\nname: Nice Côte d'Azur\\ndistance: 105\\ndescription: The discovery of Nice County\\nFrom the mountains and their beautiful forests to the typical scrubland of the Nice hinterland and the shining waters of the Mediterranean sea, the variety of landscapes in this 107km and 4500 m+ route will leave you with unforgettable memories. Roubion - a small village built on the side of a cliff in the south of the Mercantour National Park - will be the starting point. After the first few kilometers on the Vignols track, you will reach the 100-mile course where the ridges located between the Tinée and Vésubie valleys which offer a superb view of the Alps and the main Mercantour peaks. After passing the 4 mounts, you will then plunge southwards towards the Mediterranean Sea, which you will follow before celebrating your arrival at the Promenade des Anglais.\"),\n",
       " Document(id='2055c37d-4dd2-497f-9493-1a6eff9ebdc9', metadata={'source': '../data_test/utmb_text.csv', 'row': 1}, page_content=\"id: 2\\nname: Nice Côte d'Azur\\ndistance: 55\\ndescription: An Azure epic\\nStarting at the mythical Col d'Eze, at an altitude of 500m, you will experience a 54km adventure with 2,100 of D+ (vertical gain).\\n\\nThe route begins in the Grande Corniche Departmental Park, winds around the Fort de la Revère and climbs above La Turbie to the Cime de Cabanelle at 1,090m. Once you reach the Epaule de la Cime du Baudon at 1,200m, you can admire the panoramic views over the Mercantour, the French Riviera, the Mediterranean and the hinterland of Nice.\\n\\nThe descent takes you to the hilltop villages of Peille and Peillon, then along an old irrigation canal, where you will join the 100K and 100M course. The foothills of the Côte d'Azur Prealps via the Mont Leuze trails (at 42 kms into the race) are your final challenge. At the foot of Mont Leuze, the last refreshment point at Plateau Saint-Michel overlooks the harbour of Villefranche/mer and Cap Ferrat.\\n\\nCourse highlights: the trails overlooking Nice, Port Lympia (the Old Port of Nice) with its famous ‘pointus’ (colourful traditional fishing boats), and the finish line on the legendary Promenade des Anglais. An unforgettable race that combines mountains and the Mediterranean against a majestic backdrop.\"),\n",
       " Document(id='56c2b3eb-f9c8-47e9-bc75-0b9cc07dc232', metadata={'source': '../data_test/utmb_text.csv', 'row': 7}, page_content='id: 8\\nname: KAT100 Austria\\ndistance: 10\\ndescription: This discipline leads over hill and dale, past the beautiful Lauchsee lake and along a mountain stream. It is the perfect distance for beginners to gain their first trail running experiences but also for those who are up for a short and fast race. With 250M+.')]"
      ]
     },
     "execution_count": 19,
     "metadata": {},
     "output_type": "execute_result"
    }
   ],
   "source": [
    "a"
   ]
  },
  {
   "cell_type": "code",
   "execution_count": 26,
   "id": "c3762ac3",
   "metadata": {},
   "outputs": [
    {
     "name": "stderr",
     "output_type": "stream",
     "text": [
      "Batches: 100%|██████████| 1/1 [00:02<00:00,  2.16s/it]\n"
     ]
    },
    {
     "data": {
      "text/plain": [
       "[(Document(id='8235d36f-d511-4119-bdbd-4a4d74d702b9', metadata={'row': 17, 'source': '../data_test/utmb_text.csv'}, page_content='id: 18\\nname: UTMB®\\ndistance: 175\\ndescription: THE ULTIMATE REFERENCE IN TRAIL RUNNING\\nCreated in 2003, the UTMB is \"the most mythical and prestigious trail running race in the world\" with approximately 170 kilometers and 10,000 meters of positive elevation gain around the Mont-Blanc through Italy, Switzerland and France. A race like no other, it transcends the sport, and has established itself as an iconic trail race, renowned worldwide.\\n\\nNo matter the time it takes to finish, whether done in under 20 hours or more than 46, the elite runners as well as amateur runners share the same adventure on the same exceptional course, carried by the stunning beauty of the landscapes and a common goal: to cross the finish line in Chamonix. Much more than a race, it is an introspective adventure which transforms every person that takes on the challenge.'),\n",
       "  0.9889695048332214),\n",
       " (Document(id='9ca98526-8145-4cd6-9c93-725cfc5d6702', metadata={'row': 3, 'source': '../data_test/utmb_text.csv'}, page_content=\"id: 4\\nname: Nice Côte d'Azur\\ndistance: 160\\ndescription: From the Mercantour to the French Riviera\\nAn iconic distance, the 100-mile race starts from Auron and quickly reaches the highest point of the course at more than 2,650 meters above sea level: the Rabuons and its unique landscapes along the Chemin de l’Energie. After winding through chestnut forests and following the meandering Tinée river, you will walk along the wonders of the Mercantour massif and then cross beautiful ridges at the halfway point at more than 2,000m above sea level. Then, head south through more Mediterranean landscapes. A last effort to cross the 4 mounts: Mont Leuze, Mont Vinaigrier, Mont Alban and Mont Boron, and at the bend of a steep staircase, you will find yourself by the sea, a magical landscape so different from anything you have experienced. The final stretch along the coast will take you to the coveted finish on the Promenade des Anglais. With a total of 8200M+.\"),\n",
       "  1.0268471240997314),\n",
       " (Document(id='56c2b3eb-f9c8-47e9-bc75-0b9cc07dc232', metadata={'source': '../data_test/utmb_text.csv', 'row': 7}, page_content='id: 8\\nname: KAT100 Austria\\ndistance: 10\\ndescription: This discipline leads over hill and dale, past the beautiful Lauchsee lake and along a mountain stream. It is the perfect distance for beginners to gain their first trail running experiences but also for those who are up for a short and fast race. With 250M+.'),\n",
       "  1.0461077690124512),\n",
       " (Document(id='bc093364-f3c8-4be9-84a4-dfbb715515e0', metadata={'source': '../data_test/utmb_text.csv', 'row': 18}, page_content='id: 19\\nname: UTMB®\\ndistance: 300\\ndescription: LA PETITE TROTTE À LÉON\\nWith its unique concept and its specific features, the PTL sets apart from other races. The spirit of the PTL is based on mental commitment, team spirit and adventure, as well as on sporting and mountain values.\\n\\nThis ultra endurance race takes participants on a grand tour of the Mont-Blanc (300km and 25000m of D+), covering high altitude trails, without any way-marking, which requires a sense of orientation on and off the trails. The course changes every year and allows for runners to discover the rich diversity of the French, Italian and Swiss trails of the Mont Blanc massif.\\n\\nThe 2025 course - winding through the ever-present Mont-Blanc and its prestigious satellites - is again this year innovative and out of the ordinary. You will cross little-known places, often difficult to access and offering breathtaking views.'),\n",
       "  1.0662553310394287),\n",
       " (Document(id='b421252b-3e70-40a1-b051-58c0a40e0825', metadata={'source': '../data_test/utmb_text.csv', 'row': 9}, page_content='id: 10\\nname: KAT100 Austria\\ndistance: 50\\ndescription: The marathon distance offers gorgeous trails and even more beautiful views\\nThe summit of the Wildseeloder and the magnificent view over the idyllic mountain lake must be earned with a challenging first ascent. Back in the valley, a steadily ascending route on fantastic flowing trails leads along panoramic mountain paths back towards Wildseelodersee and then back to the finish in the centre of Fieberbrunn in Pillerseetal. With 350M+ of elevation gain.'),\n",
       "  1.0756521224975586)]"
      ]
     },
     "execution_count": 26,
     "metadata": {},
     "output_type": "execute_result"
    }
   ],
   "source": [
    "vector_store.similarity_search_with_score(\"what race offers the longest distance ?\", k=5)"
   ]
  },
  {
   "cell_type": "code",
   "execution_count": 29,
   "id": "1e25d3b6",
   "metadata": {},
   "outputs": [
    {
     "name": "stderr",
     "output_type": "stream",
     "text": [
      "huggingface/tokenizers: The current process just got forked, after parallelism has already been used. Disabling parallelism to avoid deadlocks...\n",
      "To disable this warning, you can either:\n",
      "\t- Avoid using `tokenizers` before the fork if possible\n",
      "\t- Explicitly set the environment variable TOKENIZERS_PARALLELISM=(true | false)\n"
     ]
    },
    {
     "name": "stdout",
     "output_type": "stream",
     "text": [
      "\n",
      "\u001b[1m[\u001b[0m\u001b[34;49mnotice\u001b[0m\u001b[1;39;49m]\u001b[0m\u001b[39;49m A new release of pip is available: \u001b[0m\u001b[31;49m24.3.1\u001b[0m\u001b[39;49m -> \u001b[0m\u001b[32;49m25.2\u001b[0m\n",
      "\u001b[1m[\u001b[0m\u001b[34;49mnotice\u001b[0m\u001b[1;39;49m]\u001b[0m\u001b[39;49m To update, run: \u001b[0m\u001b[32;49mpip install --upgrade pip\u001b[0m\n"
     ]
    }
   ],
   "source": [
    "! pip install -qU \"langchain[google-genai]\"\n"
   ]
  },
  {
   "cell_type": "code",
   "execution_count": 53,
   "id": "0eac25cb",
   "metadata": {},
   "outputs": [],
   "source": [
    "\n",
    "from ast import List\n",
    "from langchain_google_genai import ChatGoogleGenerativeAI\n",
    "import getpass\n",
    "import os\n",
    "from dotenv import load_dotenv\n",
    "load_dotenv()\n",
    "\n",
    "\n",
    "llm = ChatGoogleGenerativeAI(model='gemma-3n-e2b-it',api_key=os.environ.get(\"GOOGLE_GENAI_API_KEY\"))\n"
   ]
  },
  {
   "cell_type": "code",
   "execution_count": 55,
   "id": "f407d3a4",
   "metadata": {},
   "outputs": [
    {
     "data": {
      "text/plain": [
       "AIMessage(content='Chains of thought ignite,\\nLLMs now work as a team,\\nKnowledge flows so free. ', additional_kwargs={}, response_metadata={'prompt_feedback': {'block_reason': 0, 'safety_ratings': []}, 'finish_reason': 'STOP', 'model_name': 'gemma-3n-e2b-it', 'safety_ratings': []}, id='run--5a0a9e09-5f85-4197-bfcf-f8038c05d5e7-0', usage_metadata={'input_tokens': 9, 'output_tokens': 21, 'total_tokens': 30, 'input_token_details': {'cache_read': 0}})"
      ]
     },
     "execution_count": 55,
     "metadata": {},
     "output_type": "execute_result"
    }
   ],
   "source": [
    "llm.invoke(\"Write me a Hayku about LangChain\")"
   ]
  },
  {
   "cell_type": "code",
   "execution_count": 68,
   "id": "fdef99e0",
   "metadata": {},
   "outputs": [],
   "source": [
    "from langchain_core.prompts import ChatPromptTemplate\n"
   ]
  },
  {
   "cell_type": "code",
   "execution_count": 69,
   "id": "26d0d386",
   "metadata": {},
   "outputs": [],
   "source": [
    "prompt= ChatPromptTemplate.from_messages(\n",
    "            [\n",
    "                \n",
    "                (\"human\",\"\"\" You are an assistant for question-answering tasks. Use the following pieces of retrieved context to answer the question. If you don't know the answer, just say that you don't know. Use three sentences maximum and keep the answer concise.\n",
    "                Question: {question} \n",
    "                Context: {context} \n",
    "                Answer:\"\"\"),\n",
    "            ]\n",
    "        )"
   ]
  },
  {
   "cell_type": "code",
   "execution_count": 70,
   "id": "ee44719d",
   "metadata": {},
   "outputs": [],
   "source": [
    "from typing import TypedDict, List\n",
    "from langchain_core.documents import Document\n",
    "class State(TypedDict):\n",
    "    question: str\n",
    "    context: List[Document]\n",
    "    answer: str"
   ]
  },
  {
   "cell_type": "code",
   "execution_count": 71,
   "id": "dcaedc57",
   "metadata": {},
   "outputs": [],
   "source": [
    "# Define application steps\n",
    "def retrieve(state: State):\n",
    "    retrieved_docs = vector_store.similarity_search(state[\"question\"])\n",
    "    return {\"context\": retrieved_docs}"
   ]
  },
  {
   "cell_type": "code",
   "execution_count": 72,
   "id": "f4e513d0",
   "metadata": {},
   "outputs": [],
   "source": [
    "def generate(state: State):\n",
    "    docs_content = \"\\n\\n\".join(doc.page_content for doc in state[\"context\"])\n",
    "    messages = prompt.invoke({\"question\": state[\"question\"], \"context\": docs_content})\n",
    "    response = llm.invoke(messages)\n",
    "    return {\"answer\": response.content}"
   ]
  },
  {
   "cell_type": "code",
   "execution_count": 73,
   "id": "ba25a4df",
   "metadata": {},
   "outputs": [],
   "source": [
    "from langgraph.graph import START, StateGraph"
   ]
  },
  {
   "cell_type": "code",
   "execution_count": 74,
   "id": "71c0dc4c",
   "metadata": {},
   "outputs": [],
   "source": [
    "graph_builder = StateGraph(State).add_sequence([retrieve, generate])\n",
    "graph_builder.add_edge(START, \"retrieve\")\n",
    "graph = graph_builder.compile()"
   ]
  },
  {
   "cell_type": "code",
   "execution_count": null,
   "id": "cd2140fb",
   "metadata": {},
   "outputs": [
    {
     "name": "stderr",
     "output_type": "stream",
     "text": [
      "Batches: 100%|██████████| 1/1 [00:08<00:00,  8.80s/it]\n"
     ]
    },
    {
     "name": "stdout",
     "output_type": "stream",
     "text": [
      "Race is close to the Sea is 160km. The Nice Côte d'Azur race offers a 100-mile race that ends on the Promenade des Anglais. Another race, the \"Azure epic\", finishes at the foot of Mont Leuze, with a view overlooking the harbour of Villefranche/mer and Cap Ferrat.\n"
     ]
    }
   ],
   "source": [
    "response = graph.invoke({\"question\": \"What is race is close to the Sea? What distances does it offer?\"})\n",
    "print(response[\"answer\"])"
   ]
  },
  {
   "cell_type": "code",
   "execution_count": 78,
   "id": "41751550",
   "metadata": {},
   "outputs": [
    {
     "data": {
      "text/plain": [
       "{'question': 'What is race is close to the Sea? What distances does it offer?',\n",
       " 'context': [Document(id='9ca98526-8145-4cd6-9c93-725cfc5d6702', metadata={'row': 3, 'source': '../data_test/utmb_text.csv'}, page_content=\"id: 4\\nname: Nice Côte d'Azur\\ndistance: 160\\ndescription: From the Mercantour to the French Riviera\\nAn iconic distance, the 100-mile race starts from Auron and quickly reaches the highest point of the course at more than 2,650 meters above sea level: the Rabuons and its unique landscapes along the Chemin de l’Energie. After winding through chestnut forests and following the meandering Tinée river, you will walk along the wonders of the Mercantour massif and then cross beautiful ridges at the halfway point at more than 2,000m above sea level. Then, head south through more Mediterranean landscapes. A last effort to cross the 4 mounts: Mont Leuze, Mont Vinaigrier, Mont Alban and Mont Boron, and at the bend of a steep staircase, you will find yourself by the sea, a magical landscape so different from anything you have experienced. The final stretch along the coast will take you to the coveted finish on the Promenade des Anglais. With a total of 8200M+.\"),\n",
       "  Document(id='961afc89-20fd-492e-ab79-e74b47773233', metadata={'source': '../data_test/utmb_text.csv', 'row': 0}, page_content=\"id: 1\\nname: Nice Côte d'Azur\\ndistance: 20\\ndescription: On the trails along the Nice coastline\\nEmbark on an adventure of 22km with 700m elevation gain through a course between land and sea, starting from the port of Saint-Jean-Cap-Ferrat, along the trails of the French Riviera.\\n\\nSet off on a nearly complete tour of the peninsula, starting from the port of Saint-Jean-Cap-Ferrat, before climbing towards the Chapelle St Grat. From there, head towards the Plateau St Michel, offering a breathtaking view towards Cap Ferrat and then to Col 4 Chemins. After a beautiful passage along the Mediterranean trails, you'll descend back towards the coast. A final short climb up the Château hill will reward you with a view of the Bay of Angels before you cross the finish line on the famous Promenade des Anglais.\\n\\nThis semi-urban course features 50% of its route along the seaside, promising you an extraordinary experience not to be missed. It will be hard to resist taking a refreshing dip in the Mediterranean Sea once you've crossed the finish line and acquired the precious Running Stone.\"),\n",
       "  Document(id='56c2b3eb-f9c8-47e9-bc75-0b9cc07dc232', metadata={'row': 7, 'source': '../data_test/utmb_text.csv'}, page_content='id: 8\\nname: KAT100 Austria\\ndistance: 10\\ndescription: This discipline leads over hill and dale, past the beautiful Lauchsee lake and along a mountain stream. It is the perfect distance for beginners to gain their first trail running experiences but also for those who are up for a short and fast race. With 250M+.'),\n",
       "  Document(id='2055c37d-4dd2-497f-9493-1a6eff9ebdc9', metadata={'row': 1, 'source': '../data_test/utmb_text.csv'}, page_content=\"id: 2\\nname: Nice Côte d'Azur\\ndistance: 55\\ndescription: An Azure epic\\nStarting at the mythical Col d'Eze, at an altitude of 500m, you will experience a 54km adventure with 2,100 of D+ (vertical gain).\\n\\nThe route begins in the Grande Corniche Departmental Park, winds around the Fort de la Revère and climbs above La Turbie to the Cime de Cabanelle at 1,090m. Once you reach the Epaule de la Cime du Baudon at 1,200m, you can admire the panoramic views over the Mercantour, the French Riviera, the Mediterranean and the hinterland of Nice.\\n\\nThe descent takes you to the hilltop villages of Peille and Peillon, then along an old irrigation canal, where you will join the 100K and 100M course. The foothills of the Côte d'Azur Prealps via the Mont Leuze trails (at 42 kms into the race) are your final challenge. At the foot of Mont Leuze, the last refreshment point at Plateau Saint-Michel overlooks the harbour of Villefranche/mer and Cap Ferrat.\\n\\nCourse highlights: the trails overlooking Nice, Port Lympia (the Old Port of Nice) with its famous ‘pointus’ (colourful traditional fishing boats), and the finish line on the legendary Promenade des Anglais. An unforgettable race that combines mountains and the Mediterranean against a majestic backdrop.\")],\n",
       " 'answer': 'Race is close to the Sea is 160km. The Nice Côte d\\'Azur race offers a 100-mile race that ends on the Promenade des Anglais. Another race, the \"Azure epic\", finishes at the foot of Mont Leuze, with a view overlooking the harbour of Villefranche/mer and Cap Ferrat.'}"
      ]
     },
     "execution_count": 78,
     "metadata": {},
     "output_type": "execute_result"
    }
   ],
   "source": [
    "response"
   ]
  },
  {
   "cell_type": "code",
   "execution_count": null,
   "id": "5c5000bc",
   "metadata": {},
   "outputs": [],
   "source": []
  }
 ],
 "metadata": {
  "kernelspec": {
   "display_name": ".venv",
   "language": "python",
   "name": "python3"
  },
  "language_info": {
   "codemirror_mode": {
    "name": "ipython",
    "version": 3
   },
   "file_extension": ".py",
   "mimetype": "text/x-python",
   "name": "python",
   "nbconvert_exporter": "python",
   "pygments_lexer": "ipython3",
   "version": "3.12.4"
  }
 },
 "nbformat": 4,
 "nbformat_minor": 5
}
